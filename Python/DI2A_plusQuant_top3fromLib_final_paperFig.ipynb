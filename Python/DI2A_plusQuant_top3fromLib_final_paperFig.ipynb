{
 "cells": [
  {
   "cell_type": "markdown",
   "metadata": {},
   "source": [
    "# Performs untargeted peptide quantification of IDs from MSPLIT-DIA"
   ]
  },
  {
   "cell_type": "code",
   "execution_count": 199,
   "metadata": {},
   "outputs": [],
   "source": [
    "from pyteomics import mgf\n",
    "from pyteomics import mzxml\n",
    "from pyteomics import mass\n",
    "\n",
    "import pandas as pd\n",
    "import numpy as np\n",
    "import re\n",
    "import pickle\n",
    "import timeit\n",
    "import time\n",
    "\n",
    "import matplotlib.pyplot as plt\n",
    "from pylab import rcParams"
   ]
  },
  {
   "cell_type": "markdown",
   "metadata": {},
   "source": [
    "### Start by getting identifications from one MSPLIT-DIA search result\n",
    "1. Read mzXML file from qualitative data collection and make dict of scan:CV pairs\n",
    "2. Read MSPLIT-DIA search results file, sort peptides by cosine score, keep best score per peptide\n",
    "3. Based on untargetd quant data collection, keep only doubly charged peptides, and peptides that end in R/K\n",
    "4. Compute FDR rate by looping through the sorted peptides, return filtered dataframe w/o decoys\n",
    "5. Read mzXML file from untargeted quant data collection make "
   ]
  },
  {
   "cell_type": "code",
   "execution_count": 234,
   "metadata": {},
   "outputs": [],
   "source": [
    "### makes a dict of scan:CV value pairs for lookup of the CV\n",
    "tmp_cv_dict = {}\n",
    "with mzxml.read(\"P:/JGM_DI2A/SILAC/20190411_DI2A_1to16_n1b.mzXML\") as spectra:\n",
    "    for x in spectra:\n",
    "        tmp_cv_dict[x['num']] = x['compensationVoltage']"
   ]
  },
  {
   "cell_type": "code",
   "execution_count": 235,
   "metadata": {},
   "outputs": [],
   "source": [
    "# read the search results and sort by cosine score\n",
    "# read+sort by cosine\n",
    "df = pd.read_csv(\"P:/JGM_DI2A/SILAC/2da10ppm_1to16_n1b.txt\", sep=\"\\t\").sort_values('cosine', ascending=False)\n",
    "# keep only the row that contains the best cosine score for a peptide\n",
    "df = df.loc[df.groupby('Peptide').cosine.idxmax()].sort_values('cosine', ascending=False)"
   ]
  },
  {
   "cell_type": "code",
   "execution_count": 236,
   "metadata": {},
   "outputs": [],
   "source": [
    "### keep only the rows where peptides were charge=2\n",
    "df = df.loc[df['z.1']==2].reset_index()"
   ]
  },
  {
   "cell_type": "code",
   "execution_count": 237,
   "metadata": {},
   "outputs": [],
   "source": [
    "# keep only the lines where peptide ended with 'K' or 'R'\n",
    "endsrk = [df.loc[i] for i in range(0, len(df)) if np.any([df.loc[i]['Peptide'][-1:] =='R',df.loc[i]['Peptide'][-1:] =='K']) ]"
   ]
  },
  {
   "cell_type": "code",
   "execution_count": 238,
   "metadata": {},
   "outputs": [
    {
     "name": "stdout",
     "output_type": "stream",
     "text": [
      "not enough decoy hits, accept all 1634 peptides @ FDR=0.007893139040680024\n"
     ]
    }
   ],
   "source": [
    "# loop to compute the number of decoys and return the new df\n",
    "fdrlevel = 0.01\n",
    "fdr=0\n",
    "sortedpepdf = pd.DataFrame(endsrk)\n",
    "decoylines = [i for i, e in enumerate(sortedpepdf.Name.tolist()) if e == 'DECOY_null']\n",
    "ndecoys = len(decoylines)\n",
    "nlines=len(sortedpepdf)\n",
    "lastdecoy = []\n",
    "\n",
    "if(ndecoys==0):\n",
    "    lastdecoy.append()\n",
    "else:\n",
    "    for i in range(0, ndecoys):\n",
    "        fdr = (i+1)/decoylines[i]\n",
    "        if(fdr>fdrlevel):\n",
    "            lastdecoy.append(i)\n",
    "if(len(lastdecoy)==0):  # handles when there are not enough decoy hits\n",
    "    sortedpepdf = sortedpepdf.drop(sortedpepdf.index[decoylines])\n",
    "    print('not enough decoy hits, accept all '+str(nlines-ndecoys)+' peptides @ FDR='+str(ndecoys/nlines))\n",
    "    \n",
    "# need to edit this from the R version\n",
    "#if(len(lastdecoy)>=1 and (min(lastdecoy)-1) !=0):  ### handle when the FDR is achieved\n",
    "    #i=min(lastdecoy)-1\n",
    "    #fdr<-i/decoylines[i]\n",
    "    #print(paste(\"fdr\", round(length(decoylines[1:i])/decoylines[i], digits = 4)))\n",
    "    #print(\"score cutoff\")\n",
    "    #print(t.first[decoylines[i],\"cosine\"])\n",
    "    #print(paste(\"peptide hits=\", decoylines[i]-i))\n",
    "    #pep.output<-t.first[1:max(decoylines),]\n",
    "    \n",
    "if(len(lastdecoy)>=1 and (min(lastdecoy)-1) ==0): # handle when there are too many decoys\n",
    "    print('FDR over '+str(fdrlevel))"
   ]
  },
  {
   "cell_type": "code",
   "execution_count": 239,
   "metadata": {},
   "outputs": [],
   "source": [
    "# from filtered dataframe, take scan# and check what compensation voltage this uses and add to the dataframe\n",
    "sortedpepdf['CV'] = [tmp_cv_dict[str(x)] for x in sortedpepdf['Scan#'].tolist()]"
   ]
  },
  {
   "cell_type": "code",
   "execution_count": 240,
   "metadata": {},
   "outputs": [
    {
     "data": {
      "text/html": [
       "<div>\n",
       "<style scoped>\n",
       "    .dataframe tbody tr th:only-of-type {\n",
       "        vertical-align: middle;\n",
       "    }\n",
       "\n",
       "    .dataframe tbody tr th {\n",
       "        vertical-align: top;\n",
       "    }\n",
       "\n",
       "    .dataframe thead th {\n",
       "        text-align: right;\n",
       "    }\n",
       "</style>\n",
       "<table border=\"1\" class=\"dataframe\">\n",
       "  <thead>\n",
       "    <tr style=\"text-align: right;\">\n",
       "      <th></th>\n",
       "      <th>index</th>\n",
       "      <th>#File</th>\n",
       "      <th>Scan#</th>\n",
       "      <th>Mz</th>\n",
       "      <th>z</th>\n",
       "      <th>Peptide</th>\n",
       "      <th>Mz.1</th>\n",
       "      <th>z.1</th>\n",
       "      <th>cosine</th>\n",
       "      <th>Name</th>\n",
       "      <th>...</th>\n",
       "      <th>stat11</th>\n",
       "      <th>stat12</th>\n",
       "      <th>stat13</th>\n",
       "      <th>stat14</th>\n",
       "      <th>stat15</th>\n",
       "      <th>stat16</th>\n",
       "      <th>stat17</th>\n",
       "      <th>stat18</th>\n",
       "      <th>stat19</th>\n",
       "      <th>CV</th>\n",
       "    </tr>\n",
       "  </thead>\n",
       "  <tbody>\n",
       "    <tr>\n",
       "      <th>0</th>\n",
       "      <td>3112</td>\n",
       "      <td>P:\\JGM_DI2A\\SILAC\\20190411_DI2A_1to16_n1b.mzXML</td>\n",
       "      <td>2420</td>\n",
       "      <td>420.0</td>\n",
       "      <td>2</td>\n",
       "      <td>APIIAVTR</td>\n",
       "      <td>420.77</td>\n",
       "      <td>2</td>\n",
       "      <td>0.976826</td>\n",
       "      <td>human.faims.7197.7197. File:\"\", NativeID:\"scan...</td>\n",
       "      <td>...</td>\n",
       "      <td>34.0</td>\n",
       "      <td>82.0</td>\n",
       "      <td>21.0</td>\n",
       "      <td>0.0</td>\n",
       "      <td>0.936531</td>\n",
       "      <td>0.964773</td>\n",
       "      <td>2.925132</td>\n",
       "      <td>NaN</td>\n",
       "      <td>NaN</td>\n",
       "      <td>-70.0</td>\n",
       "    </tr>\n",
       "    <tr>\n",
       "      <th>1</th>\n",
       "      <td>166</td>\n",
       "      <td>P:\\JGM_DI2A\\SILAC\\20190411_DI2A_1to16_n1b.mzXML</td>\n",
       "      <td>403</td>\n",
       "      <td>803.0</td>\n",
       "      <td>2</td>\n",
       "      <td>ALTGHLEEVVLALLK</td>\n",
       "      <td>803.48</td>\n",
       "      <td>2</td>\n",
       "      <td>0.973920</td>\n",
       "      <td>human.faims.6092.6092. File:\"\", NativeID:\"scan...</td>\n",
       "      <td>...</td>\n",
       "      <td>8.0</td>\n",
       "      <td>13.0</td>\n",
       "      <td>4.0</td>\n",
       "      <td>0.0</td>\n",
       "      <td>0.979685</td>\n",
       "      <td>0.948266</td>\n",
       "      <td>0.161017</td>\n",
       "      <td>NaN</td>\n",
       "      <td>NaN</td>\n",
       "      <td>-30.0</td>\n",
       "    </tr>\n",
       "    <tr>\n",
       "      <th>2</th>\n",
       "      <td>123</td>\n",
       "      <td>P:\\JGM_DI2A\\SILAC\\20190411_DI2A_1to16_n1b.mzXML</td>\n",
       "      <td>375</td>\n",
       "      <td>775.0</td>\n",
       "      <td>2</td>\n",
       "      <td>GTDVNVFNTILTTR</td>\n",
       "      <td>775.91</td>\n",
       "      <td>2</td>\n",
       "      <td>0.972525</td>\n",
       "      <td>human.faims.41782.41782. File:\"\", NativeID:\"sc...</td>\n",
       "      <td>...</td>\n",
       "      <td>2.0</td>\n",
       "      <td>21.0</td>\n",
       "      <td>7.0</td>\n",
       "      <td>0.0</td>\n",
       "      <td>0.264671</td>\n",
       "      <td>0.970944</td>\n",
       "      <td>0.220307</td>\n",
       "      <td>NaN</td>\n",
       "      <td>NaN</td>\n",
       "      <td>-30.0</td>\n",
       "    </tr>\n",
       "    <tr>\n",
       "      <th>3</th>\n",
       "      <td>85</td>\n",
       "      <td>P:\\JGM_DI2A\\SILAC\\20190411_DI2A_1to16_n1b.mzXML</td>\n",
       "      <td>333</td>\n",
       "      <td>733.0</td>\n",
       "      <td>2</td>\n",
       "      <td>S+42.01057DAAVDTSSEITTK</td>\n",
       "      <td>733.85</td>\n",
       "      <td>2</td>\n",
       "      <td>0.970295</td>\n",
       "      <td>human.faims.106571.106571. File:\"\", NativeID:\"...</td>\n",
       "      <td>...</td>\n",
       "      <td>10.0</td>\n",
       "      <td>19.0</td>\n",
       "      <td>5.0</td>\n",
       "      <td>0.0</td>\n",
       "      <td>0.053764</td>\n",
       "      <td>0.772867</td>\n",
       "      <td>0.807127</td>\n",
       "      <td>NaN</td>\n",
       "      <td>NaN</td>\n",
       "      <td>-30.0</td>\n",
       "    </tr>\n",
       "    <tr>\n",
       "      <th>4</th>\n",
       "      <td>744</td>\n",
       "      <td>P:\\JGM_DI2A\\SILAC\\20190411_DI2A_1to16_n1b.mzXML</td>\n",
       "      <td>785</td>\n",
       "      <td>585.0</td>\n",
       "      <td>2</td>\n",
       "      <td>ILLAELEQLK</td>\n",
       "      <td>585.36</td>\n",
       "      <td>2</td>\n",
       "      <td>0.970021</td>\n",
       "      <td>human.faims.51242.51242. File:\"\", NativeID:\"sc...</td>\n",
       "      <td>...</td>\n",
       "      <td>16.0</td>\n",
       "      <td>51.0</td>\n",
       "      <td>4.0</td>\n",
       "      <td>0.0</td>\n",
       "      <td>0.177908</td>\n",
       "      <td>0.808319</td>\n",
       "      <td>0.036934</td>\n",
       "      <td>NaN</td>\n",
       "      <td>NaN</td>\n",
       "      <td>-40.0</td>\n",
       "    </tr>\n",
       "  </tbody>\n",
       "</table>\n",
       "<p>5 rows × 37 columns</p>\n",
       "</div>"
      ],
      "text/plain": [
       "   index                                            #File  Scan#     Mz  z  \\\n",
       "0   3112  P:\\JGM_DI2A\\SILAC\\20190411_DI2A_1to16_n1b.mzXML   2420  420.0  2   \n",
       "1    166  P:\\JGM_DI2A\\SILAC\\20190411_DI2A_1to16_n1b.mzXML    403  803.0  2   \n",
       "2    123  P:\\JGM_DI2A\\SILAC\\20190411_DI2A_1to16_n1b.mzXML    375  775.0  2   \n",
       "3     85  P:\\JGM_DI2A\\SILAC\\20190411_DI2A_1to16_n1b.mzXML    333  733.0  2   \n",
       "4    744  P:\\JGM_DI2A\\SILAC\\20190411_DI2A_1to16_n1b.mzXML    785  585.0  2   \n",
       "\n",
       "                   Peptide    Mz.1  z.1    cosine  \\\n",
       "0                 APIIAVTR  420.77    2  0.976826   \n",
       "1          ALTGHLEEVVLALLK  803.48    2  0.973920   \n",
       "2           GTDVNVFNTILTTR  775.91    2  0.972525   \n",
       "3  S+42.01057DAAVDTSSEITTK  733.85    2  0.970295   \n",
       "4               ILLAELEQLK  585.36    2  0.970021   \n",
       "\n",
       "                                                Name  ...  stat11  stat12  \\\n",
       "0  human.faims.7197.7197. File:\"\", NativeID:\"scan...  ...    34.0    82.0   \n",
       "1  human.faims.6092.6092. File:\"\", NativeID:\"scan...  ...     8.0    13.0   \n",
       "2  human.faims.41782.41782. File:\"\", NativeID:\"sc...  ...     2.0    21.0   \n",
       "3  human.faims.106571.106571. File:\"\", NativeID:\"...  ...    10.0    19.0   \n",
       "4  human.faims.51242.51242. File:\"\", NativeID:\"sc...  ...    16.0    51.0   \n",
       "\n",
       "   stat13  stat14    stat15    stat16    stat17  stat18  stat19    CV  \n",
       "0    21.0     0.0  0.936531  0.964773  2.925132     NaN     NaN -70.0  \n",
       "1     4.0     0.0  0.979685  0.948266  0.161017     NaN     NaN -30.0  \n",
       "2     7.0     0.0  0.264671  0.970944  0.220307     NaN     NaN -30.0  \n",
       "3     5.0     0.0  0.053764  0.772867  0.807127     NaN     NaN -30.0  \n",
       "4     4.0     0.0  0.177908  0.808319  0.036934     NaN     NaN -40.0  \n",
       "\n",
       "[5 rows x 37 columns]"
      ]
     },
     "execution_count": 240,
     "metadata": {},
     "output_type": "execute_result"
    }
   ],
   "source": [
    "# get the FAIMS compensation voltages for the productive scan\n",
    "# make dictionary with peptide sequence as key and list of [scan, cv] as value\n",
    "\n",
    "sortedpepdf.head()"
   ]
  },
  {
   "cell_type": "code",
   "execution_count": 241,
   "metadata": {},
   "outputs": [],
   "source": [
    "### now open file for quant\n",
    "# make dict the msx[1] isolation centers for each scan and the\n",
    "precmzlist= []\n",
    "mz_plus_cv_dict = {}\n",
    "\n",
    "with mzxml.read(\"P:/JGM_DI2A/SILAC/20190412_DI2A_1to1_tMS2_n3.mzXML\") as spectra:\n",
    "    for x in spectra:\n",
    "        tmpscannum = x['num']\n",
    "        tmplightisolationcenter = x['precursorMz'][0]['precursorMz']\n",
    "        tmpcv = x['compensationVoltage']\n",
    "        precmzlist.append(tmplightisolationcenter)\n",
    "        if str(tmplightisolationcenter)+','+str(tmpcv) not in mz_plus_cv_dict.keys():\n",
    "            mz_plus_cv_dict[str(tmplightisolationcenter)+','+str(tmpcv)] = [int(tmpscannum)]\n",
    "        else:\n",
    "            mz_plus_cv_dict[str(tmplightisolationcenter)+','+str(tmpcv)].append(int(tmpscannum))"
   ]
  },
  {
   "cell_type": "markdown",
   "metadata": {},
   "source": [
    "### Function to find the precursor isolation target closest to the peptide precursor mass"
   ]
  },
  {
   "cell_type": "code",
   "execution_count": 242,
   "metadata": {
    "scrolled": true
   },
   "outputs": [],
   "source": [
    "# make new column in dataframe that has the closest light ms1 isolation center\n",
    "def find_nearest(array,value):\n",
    "    idx = (np.abs(array-np.float_(value))).argmin()\n",
    "    return array[idx]\n",
    "\n",
    "# then use the function to add column to the dataframe\n",
    "sortedpepdf['quantprecursor'] = [find_nearest(precmzlist, x) for x in sortedpepdf['Mz.1'].tolist()]"
   ]
  },
  {
   "cell_type": "code",
   "execution_count": 243,
   "metadata": {},
   "outputs": [],
   "source": [
    "# get the quant scans using the dictionary with 'precmz,CV' keys\n",
    "quantscans = []\n",
    "for x in range(0, len(sortedpepdf)):\n",
    "    quantscans.append(mz_plus_cv_dict[str(sortedpepdf['quantprecursor'].tolist()[x]) +',' +str(sortedpepdf['CV'].tolist()[x])])"
   ]
  },
  {
   "cell_type": "code",
   "execution_count": 244,
   "metadata": {},
   "outputs": [],
   "source": [
    "sortedpepdf['quantscans'] = quantscans"
   ]
  },
  {
   "cell_type": "code",
   "execution_count": 245,
   "metadata": {},
   "outputs": [
    {
     "data": {
      "text/plain": [
       "1634"
      ]
     },
     "execution_count": 245,
     "metadata": {},
     "output_type": "execute_result"
    }
   ],
   "source": [
    "len(sortedpepdf)"
   ]
  },
  {
   "cell_type": "markdown",
   "metadata": {},
   "source": [
    "# write filtered peptide ID file with the quantification coordinates for target quant files"
   ]
  },
  {
   "cell_type": "markdown",
   "metadata": {},
   "source": [
    "### This file is also used to generate quantification target lists for data collection"
   ]
  },
  {
   "cell_type": "code",
   "execution_count": 15,
   "metadata": {},
   "outputs": [],
   "source": [
    "#sortedpepdf.to_csv(\"P:/JGM_DI2A/SILAC/2da10ppm_1to16_n1b_sortedpepdf_withquant_rmnontry.txt\", sep=\"\\t\")"
   ]
  },
  {
   "cell_type": "markdown",
   "metadata": {},
   "source": [
    "# start here to read file with quant coordinates and skip above lines"
   ]
  },
  {
   "cell_type": "code",
   "execution_count": 246,
   "metadata": {},
   "outputs": [],
   "source": [
    "sortedpepdf = pd.read_csv(\"P:/JGM_DI2A/SILAC/2da10ppm_1to16_n1b_sortedpepdf_withquant_rmnontry.txt\", sep=\"\\t\",\n",
    "                          converters={\"quantscans\": lambda x: x.strip(\"[]\").split(\", \")})"
   ]
  },
  {
   "cell_type": "code",
   "execution_count": 247,
   "metadata": {},
   "outputs": [
    {
     "data": {
      "text/html": [
       "<div>\n",
       "<style scoped>\n",
       "    .dataframe tbody tr th:only-of-type {\n",
       "        vertical-align: middle;\n",
       "    }\n",
       "\n",
       "    .dataframe tbody tr th {\n",
       "        vertical-align: top;\n",
       "    }\n",
       "\n",
       "    .dataframe thead th {\n",
       "        text-align: right;\n",
       "    }\n",
       "</style>\n",
       "<table border=\"1\" class=\"dataframe\">\n",
       "  <thead>\n",
       "    <tr style=\"text-align: right;\">\n",
       "      <th></th>\n",
       "      <th>Unnamed: 0</th>\n",
       "      <th>index</th>\n",
       "      <th>#File</th>\n",
       "      <th>Scan#</th>\n",
       "      <th>Mz</th>\n",
       "      <th>z</th>\n",
       "      <th>Peptide</th>\n",
       "      <th>Mz.1</th>\n",
       "      <th>z.1</th>\n",
       "      <th>cosine</th>\n",
       "      <th>...</th>\n",
       "      <th>stat13</th>\n",
       "      <th>stat14</th>\n",
       "      <th>stat15</th>\n",
       "      <th>stat16</th>\n",
       "      <th>stat17</th>\n",
       "      <th>stat18</th>\n",
       "      <th>stat19</th>\n",
       "      <th>CV</th>\n",
       "      <th>quantprecursor</th>\n",
       "      <th>quantscans</th>\n",
       "    </tr>\n",
       "  </thead>\n",
       "  <tbody>\n",
       "    <tr>\n",
       "      <th>0</th>\n",
       "      <td>0</td>\n",
       "      <td>3112</td>\n",
       "      <td>P:\\JGM_DI2A\\SILAC\\20190411_DI2A_1to16_n1b.mzXML</td>\n",
       "      <td>2420</td>\n",
       "      <td>420.0</td>\n",
       "      <td>2</td>\n",
       "      <td>APIIAVTR</td>\n",
       "      <td>420.77</td>\n",
       "      <td>2</td>\n",
       "      <td>0.976826</td>\n",
       "      <td>...</td>\n",
       "      <td>21.0</td>\n",
       "      <td>0.0</td>\n",
       "      <td>0.936531</td>\n",
       "      <td>0.964773</td>\n",
       "      <td>2.925132</td>\n",
       "      <td>NaN</td>\n",
       "      <td>NaN</td>\n",
       "      <td>-70.0</td>\n",
       "      <td>420.5</td>\n",
       "      <td>[1618, 4024]</td>\n",
       "    </tr>\n",
       "    <tr>\n",
       "      <th>1</th>\n",
       "      <td>1</td>\n",
       "      <td>166</td>\n",
       "      <td>P:\\JGM_DI2A\\SILAC\\20190411_DI2A_1to16_n1b.mzXML</td>\n",
       "      <td>403</td>\n",
       "      <td>803.0</td>\n",
       "      <td>2</td>\n",
       "      <td>ALTGHLEEVVLALLK</td>\n",
       "      <td>803.48</td>\n",
       "      <td>2</td>\n",
       "      <td>0.973920</td>\n",
       "      <td>...</td>\n",
       "      <td>4.0</td>\n",
       "      <td>0.0</td>\n",
       "      <td>0.979685</td>\n",
       "      <td>0.948266</td>\n",
       "      <td>0.161017</td>\n",
       "      <td>NaN</td>\n",
       "      <td>NaN</td>\n",
       "      <td>-30.0</td>\n",
       "      <td>803.0</td>\n",
       "      <td>[269, 2675]</td>\n",
       "    </tr>\n",
       "    <tr>\n",
       "      <th>2</th>\n",
       "      <td>2</td>\n",
       "      <td>123</td>\n",
       "      <td>P:\\JGM_DI2A\\SILAC\\20190411_DI2A_1to16_n1b.mzXML</td>\n",
       "      <td>375</td>\n",
       "      <td>775.0</td>\n",
       "      <td>2</td>\n",
       "      <td>GTDVNVFNTILTTR</td>\n",
       "      <td>775.91</td>\n",
       "      <td>2</td>\n",
       "      <td>0.972525</td>\n",
       "      <td>...</td>\n",
       "      <td>7.0</td>\n",
       "      <td>0.0</td>\n",
       "      <td>0.264671</td>\n",
       "      <td>0.970944</td>\n",
       "      <td>0.220307</td>\n",
       "      <td>NaN</td>\n",
       "      <td>NaN</td>\n",
       "      <td>-30.0</td>\n",
       "      <td>776.0</td>\n",
       "      <td>[251, 2657]</td>\n",
       "    </tr>\n",
       "    <tr>\n",
       "      <th>3</th>\n",
       "      <td>3</td>\n",
       "      <td>85</td>\n",
       "      <td>P:\\JGM_DI2A\\SILAC\\20190411_DI2A_1to16_n1b.mzXML</td>\n",
       "      <td>333</td>\n",
       "      <td>733.0</td>\n",
       "      <td>2</td>\n",
       "      <td>S+42.01057DAAVDTSSEITTK</td>\n",
       "      <td>733.85</td>\n",
       "      <td>2</td>\n",
       "      <td>0.970295</td>\n",
       "      <td>...</td>\n",
       "      <td>5.0</td>\n",
       "      <td>0.0</td>\n",
       "      <td>0.053764</td>\n",
       "      <td>0.772867</td>\n",
       "      <td>0.807127</td>\n",
       "      <td>NaN</td>\n",
       "      <td>NaN</td>\n",
       "      <td>-30.0</td>\n",
       "      <td>734.0</td>\n",
       "      <td>[223, 2629]</td>\n",
       "    </tr>\n",
       "    <tr>\n",
       "      <th>4</th>\n",
       "      <td>4</td>\n",
       "      <td>744</td>\n",
       "      <td>P:\\JGM_DI2A\\SILAC\\20190411_DI2A_1to16_n1b.mzXML</td>\n",
       "      <td>785</td>\n",
       "      <td>585.0</td>\n",
       "      <td>2</td>\n",
       "      <td>ILLAELEQLK</td>\n",
       "      <td>585.36</td>\n",
       "      <td>2</td>\n",
       "      <td>0.970021</td>\n",
       "      <td>...</td>\n",
       "      <td>4.0</td>\n",
       "      <td>0.0</td>\n",
       "      <td>0.177908</td>\n",
       "      <td>0.808319</td>\n",
       "      <td>0.036934</td>\n",
       "      <td>NaN</td>\n",
       "      <td>NaN</td>\n",
       "      <td>-40.0</td>\n",
       "      <td>585.5</td>\n",
       "      <td>[525, 2931]</td>\n",
       "    </tr>\n",
       "  </tbody>\n",
       "</table>\n",
       "<p>5 rows × 40 columns</p>\n",
       "</div>"
      ],
      "text/plain": [
       "   Unnamed: 0  index                                            #File  Scan#  \\\n",
       "0           0   3112  P:\\JGM_DI2A\\SILAC\\20190411_DI2A_1to16_n1b.mzXML   2420   \n",
       "1           1    166  P:\\JGM_DI2A\\SILAC\\20190411_DI2A_1to16_n1b.mzXML    403   \n",
       "2           2    123  P:\\JGM_DI2A\\SILAC\\20190411_DI2A_1to16_n1b.mzXML    375   \n",
       "3           3     85  P:\\JGM_DI2A\\SILAC\\20190411_DI2A_1to16_n1b.mzXML    333   \n",
       "4           4    744  P:\\JGM_DI2A\\SILAC\\20190411_DI2A_1to16_n1b.mzXML    785   \n",
       "\n",
       "      Mz  z                  Peptide    Mz.1  z.1    cosine  ... stat13  \\\n",
       "0  420.0  2                 APIIAVTR  420.77    2  0.976826  ...   21.0   \n",
       "1  803.0  2          ALTGHLEEVVLALLK  803.48    2  0.973920  ...    4.0   \n",
       "2  775.0  2           GTDVNVFNTILTTR  775.91    2  0.972525  ...    7.0   \n",
       "3  733.0  2  S+42.01057DAAVDTSSEITTK  733.85    2  0.970295  ...    5.0   \n",
       "4  585.0  2               ILLAELEQLK  585.36    2  0.970021  ...    4.0   \n",
       "\n",
       "   stat14    stat15    stat16    stat17  stat18  stat19    CV  quantprecursor  \\\n",
       "0     0.0  0.936531  0.964773  2.925132     NaN     NaN -70.0           420.5   \n",
       "1     0.0  0.979685  0.948266  0.161017     NaN     NaN -30.0           803.0   \n",
       "2     0.0  0.264671  0.970944  0.220307     NaN     NaN -30.0           776.0   \n",
       "3     0.0  0.053764  0.772867  0.807127     NaN     NaN -30.0           734.0   \n",
       "4     0.0  0.177908  0.808319  0.036934     NaN     NaN -40.0           585.5   \n",
       "\n",
       "     quantscans  \n",
       "0  [1618, 4024]  \n",
       "1   [269, 2675]  \n",
       "2   [251, 2657]  \n",
       "3   [223, 2629]  \n",
       "4   [525, 2931]  \n",
       "\n",
       "[5 rows x 40 columns]"
      ]
     },
     "execution_count": 247,
     "metadata": {},
     "output_type": "execute_result"
    }
   ],
   "source": [
    "sortedpepdf.head()"
   ]
  },
  {
   "cell_type": "code",
   "execution_count": 248,
   "metadata": {},
   "outputs": [
    {
     "data": {
      "text/plain": [
       "1634"
      ]
     },
     "execution_count": 248,
     "metadata": {},
     "output_type": "execute_result"
    }
   ],
   "source": [
    "len(sortedpepdf)"
   ]
  },
  {
   "cell_type": "code",
   "execution_count": 249,
   "metadata": {},
   "outputs": [],
   "source": [
    "allpeptides = sortedpepdf['Peptide'].tolist()"
   ]
  },
  {
   "cell_type": "markdown",
   "metadata": {},
   "source": [
    "### Function to get quantification fragments from sequence"
   ]
  },
  {
   "cell_type": "code",
   "execution_count": 263,
   "metadata": {},
   "outputs": [
    {
     "data": {
      "text/plain": [
       "0.0009984970092773438"
      ]
     },
     "execution_count": 263,
     "metadata": {},
     "output_type": "execute_result"
    }
   ],
   "source": [
    "\n",
    "# need function to get quant frags from peptide\n",
    "\n",
    "def getQuantFrags(sequence, specname, libfileobj):\n",
    "    '''\n",
    "    PURPOSE: determine y-ion fragments to use for SILAC quantification\n",
    "    \n",
    "    INPUT:  1. string sequence of the peptide to fragment\n",
    "            2. Spectra name\n",
    "            3. spectral library file object\n",
    "    \n",
    "    OUTPUT: pandas dataframe of the sequence fragments and their light and heavy yion fragments\n",
    "    '''\n",
    "    \n",
    "    hK=8.014199 ## mass of heavy lysine\n",
    "    hR=10.00827 ## mass of heavy arg\n",
    "    ### fix masses and get proton mass w/o electron\n",
    "    customAAcomp = dict(mass.std_aa_comp)\n",
    "    customAAcomp['C'] = mass.Composition({'H':8, 'C':5, 'S':1,'O':2, 'N': 2}) ## add carbamidomethyl to the modifications\n",
    "    customAAcomp['m'] = mass.Composition({'H': 9, 'C': 5, 'S': 1, 'O': 2, 'N': 1}) ## add oxidized methionine\n",
    "    protonmass = mass.calculate_mass(formula='H')-0.00054858 ## mass of hydrogen minus an electron\n",
    "    # clean sequence to remove mod masses and change oxMet to 'm'\n",
    "    sequence = re.sub('\\+42.01057','', sequence)\n",
    "    sequence = re.sub('\\+57.0215','', sequence)\n",
    "    sequence = re.sub('M\\+15.9949','m', sequence)\n",
    "    # clean sequence to remove mod masses and change oxMet to 'm'\n",
    "    fraglist = []\n",
    "    z=1\n",
    "    for x in range(1, len(sequence)-1):\n",
    "        fragseq = sequence[x:]\n",
    "        lightfragmz = mass.calculate_mass(sequence=sequence[x:], ion_type='y', charge=1, aa_comp = customAAcomp)\n",
    "        ## part to count the number of K and R residues\n",
    "        nk = fragseq.count('K')\n",
    "        nr = fragseq.count('R')\n",
    "        heavyfragmz = lightfragmz + (hK/z)*nk + (hR/z)*nr\n",
    "        fraglist.append([fragseq, lightfragmz, heavyfragmz])\n",
    "    fl = pd.DataFrame(fraglist)\n",
    "    fl.columns = ['fragseq', 'lightmz', 'heavymz']\n",
    "    return(fl)\n"
   ]
  },
  {
   "cell_type": "markdown",
   "metadata": {},
   "source": [
    "### Test the function to get all possible quant frags"
   ]
  },
  {
   "cell_type": "code",
   "execution_count": 167,
   "metadata": {},
   "outputs": [],
   "source": [
    "speclib = mgf.read('P:/JGM_DI2A/MSPLIT-DIAv1.0/human.faims.fixed.decoy.mgf')"
   ]
  },
  {
   "cell_type": "code",
   "execution_count": 250,
   "metadata": {},
   "outputs": [
    {
     "data": {
      "text/plain": [
       "'ALTGHLEEVVLALLK'"
      ]
     },
     "execution_count": 250,
     "metadata": {},
     "output_type": "execute_result"
    }
   ],
   "source": [
    "p1 = allpeptides[1]\n",
    "p1"
   ]
  },
  {
   "cell_type": "code",
   "execution_count": 251,
   "metadata": {},
   "outputs": [],
   "source": [
    "tmpscanname = sortedpepdf['Name'][0].split(' ')[0]"
   ]
  },
  {
   "cell_type": "code",
   "execution_count": 252,
   "metadata": {},
   "outputs": [],
   "source": [
    "sequence = sortedpepdf['Peptide'][0]"
   ]
  },
  {
   "cell_type": "code",
   "execution_count": 253,
   "metadata": {},
   "outputs": [
    {
     "data": {
      "text/plain": [
       "'APIIAVTR'"
      ]
     },
     "execution_count": 253,
     "metadata": {},
     "output_type": "execute_result"
    }
   ],
   "source": [
    "sequence"
   ]
  },
  {
   "cell_type": "code",
   "execution_count": 254,
   "metadata": {},
   "outputs": [],
   "source": [
    "specname = sortedpepdf['Name'][0]"
   ]
  },
  {
   "cell_type": "code",
   "execution_count": 255,
   "metadata": {},
   "outputs": [],
   "source": [
    "libfileobj = speclib"
   ]
  },
  {
   "cell_type": "code",
   "execution_count": 256,
   "metadata": {},
   "outputs": [],
   "source": [
    "libmzarray = libfileobj.get_by_id(specname)['m/z array'].tolist()"
   ]
  },
  {
   "cell_type": "code",
   "execution_count": 257,
   "metadata": {},
   "outputs": [],
   "source": [
    "libintarray = libfileobj.get_by_id(specname)['intensity array'].tolist()"
   ]
  },
  {
   "cell_type": "markdown",
   "metadata": {},
   "source": []
  },
  {
   "cell_type": "code",
   "execution_count": null,
   "metadata": {},
   "outputs": [],
   "source": [
    "st = time.time()\n",
    "p1qf = getQuantFrags(SEQ, SPECNAME, speclib)\n",
    "time.time() - st"
   ]
  },
  {
   "cell_type": "code",
   "execution_count": 264,
   "metadata": {},
   "outputs": [
    {
     "data": {
      "text/html": [
       "<div>\n",
       "<style scoped>\n",
       "    .dataframe tbody tr th:only-of-type {\n",
       "        vertical-align: middle;\n",
       "    }\n",
       "\n",
       "    .dataframe tbody tr th {\n",
       "        vertical-align: top;\n",
       "    }\n",
       "\n",
       "    .dataframe thead th {\n",
       "        text-align: right;\n",
       "    }\n",
       "</style>\n",
       "<table border=\"1\" class=\"dataframe\">\n",
       "  <thead>\n",
       "    <tr style=\"text-align: right;\">\n",
       "      <th></th>\n",
       "      <th>fragseq</th>\n",
       "      <th>lightmz</th>\n",
       "      <th>heavymz</th>\n",
       "    </tr>\n",
       "  </thead>\n",
       "  <tbody>\n",
       "    <tr>\n",
       "      <th>0</th>\n",
       "      <td>PIIAVTR</td>\n",
       "      <td>769.493050</td>\n",
       "      <td>779.501320</td>\n",
       "    </tr>\n",
       "    <tr>\n",
       "      <th>1</th>\n",
       "      <td>IIAVTR</td>\n",
       "      <td>672.440286</td>\n",
       "      <td>682.448556</td>\n",
       "    </tr>\n",
       "    <tr>\n",
       "      <th>2</th>\n",
       "      <td>IAVTR</td>\n",
       "      <td>559.356222</td>\n",
       "      <td>569.364492</td>\n",
       "    </tr>\n",
       "    <tr>\n",
       "      <th>3</th>\n",
       "      <td>AVTR</td>\n",
       "      <td>446.272158</td>\n",
       "      <td>456.280428</td>\n",
       "    </tr>\n",
       "    <tr>\n",
       "      <th>4</th>\n",
       "      <td>VTR</td>\n",
       "      <td>375.235045</td>\n",
       "      <td>385.243315</td>\n",
       "    </tr>\n",
       "    <tr>\n",
       "      <th>5</th>\n",
       "      <td>TR</td>\n",
       "      <td>276.166631</td>\n",
       "      <td>286.174901</td>\n",
       "    </tr>\n",
       "  </tbody>\n",
       "</table>\n",
       "</div>"
      ],
      "text/plain": [
       "   fragseq     lightmz     heavymz\n",
       "0  PIIAVTR  769.493050  779.501320\n",
       "1   IIAVTR  672.440286  682.448556\n",
       "2    IAVTR  559.356222  569.364492\n",
       "3     AVTR  446.272158  456.280428\n",
       "4      VTR  375.235045  385.243315\n",
       "5       TR  276.166631  286.174901"
      ]
     },
     "execution_count": 264,
     "metadata": {},
     "output_type": "execute_result"
    }
   ],
   "source": [
    "p1qf"
   ]
  },
  {
   "cell_type": "code",
   "execution_count": 178,
   "metadata": {},
   "outputs": [],
   "source": [
    "SEQ = sortedpepdf['Peptide'][0]\n",
    "SPECNAME = sortedpepdf['Name'][0]"
   ]
  },
  {
   "cell_type": "markdown",
   "metadata": {},
   "source": [
    "### Get y-ions to use for quantification from most abundant y-ions matched between ID spec and spec lib"
   ]
  },
  {
   "cell_type": "code",
   "execution_count": 261,
   "metadata": {},
   "outputs": [
    {
     "data": {
      "text/plain": [
       "0.003986835479736328"
      ]
     },
     "execution_count": 261,
     "metadata": {},
     "output_type": "execute_result"
    }
   ],
   "source": [
    "# need function to get quant frags from peptide\n",
    "def getQuantFragsFromLib(sequence, specname, libfileobj):\n",
    "    '''\n",
    "    PURPOSE: determine y-ion fragments to use for SILAC quantification\n",
    "    \n",
    "    INPUT: spectral library mgf object used with MSPLIT-DIA\n",
    "    \n",
    "    OUTPUT: pandas dataframe of the top 3 y-ion sequence fragments and their light and heavy yion fragments\n",
    "    '''\n",
    "    libmzarray = libfileobj.get_by_id(specname)['m/z array'].tolist()\n",
    "    libintarray = libfileobj.get_by_id(specname)['intensity array'].tolist()\n",
    "    hK=8.014199 ## mass of heavy lysine\n",
    "    hR=10.00827 ## mass of heavy arg\n",
    "    ### fix masses and get proton mass w/o electron\n",
    "    customAAcomp = dict(mass.std_aa_comp)\n",
    "    customAAcomp['C'] = mass.Composition({'H':8, 'C':5, 'S':1,'O':2, 'N': 2}) ## add carbamidomethyl to the modifications\n",
    "    customAAcomp['m'] = mass.Composition({'H': 9, 'C': 5, 'S': 1, 'O': 2, 'N': 1}) ## add oxidized methionine\n",
    "    protonmass = mass.calculate_mass(formula='H')-0.00054858 ## mass of hydrogen minus an electron\n",
    "    # clean sequence to remove mod masses and change oxMet to 'm'\n",
    "    sequence = re.sub('\\+42.01057','', sequence)\n",
    "    sequence = re.sub('\\+57.0215','', sequence)\n",
    "    sequence = re.sub('M\\+15.9949','m', sequence)\n",
    "    # clean sequence to remove mod masses and change oxMet to 'm'\n",
    "    fraglist = []\n",
    "    z=1\n",
    "    for x in range(1, len(sequence)-1):\n",
    "        fragseq = sequence[x:]\n",
    "        lightfragmz = mass.calculate_mass(sequence=sequence[x:], ion_type='y', charge=1, aa_comp = customAAcomp)\n",
    "        ## part to count the number of K and R residues\n",
    "        nk = fragseq.count('K')\n",
    "        nr = fragseq.count('R')\n",
    "        heavyfragmz = lightfragmz + (hK/z)*nk + (hR/z)*nr\n",
    "        fraglist.append([fragseq, lightfragmz, heavyfragmz])\n",
    "    fl = pd.DataFrame(fraglist)\n",
    "    fl.columns = ['fragseq', 'lightmz', 'heavymz']\n",
    "    predy = round(fl['lightmz'],ndigits = 3).tolist()\n",
    "    foundmzs = [libmzarray[y] for y in [libmzarray.index(x) for x in predy if x in libmzarray]]\n",
    "    foundints = [libintarray[y] for y in [libmzarray.index(x) for x in predy if x in libmzarray]]\n",
    "    keeplight = pd.DataFrame([foundmzs, foundints]).T.sort_values(by=1, ascending=False)[0][:3].tolist()\n",
    "    lightmzs = round(fl['lightmz'], ndigits=3).tolist()\n",
    "    fl = fl.loc[[lightmzs.index(x) for x in keeplight]]\n",
    "    return(fl)\n",
    "st = time.time()\n",
    "p1qf = getQuantFragsFromLib(SEQ, SPECNAME, speclib)\n",
    "time.time() - st"
   ]
  },
  {
   "cell_type": "markdown",
   "metadata": {},
   "source": [
    "### Proof that it picks the most abundant ions"
   ]
  },
  {
   "cell_type": "code",
   "execution_count": 262,
   "metadata": {},
   "outputs": [
    {
     "data": {
      "text/html": [
       "<div>\n",
       "<style scoped>\n",
       "    .dataframe tbody tr th:only-of-type {\n",
       "        vertical-align: middle;\n",
       "    }\n",
       "\n",
       "    .dataframe tbody tr th {\n",
       "        vertical-align: top;\n",
       "    }\n",
       "\n",
       "    .dataframe thead th {\n",
       "        text-align: right;\n",
       "    }\n",
       "</style>\n",
       "<table border=\"1\" class=\"dataframe\">\n",
       "  <thead>\n",
       "    <tr style=\"text-align: right;\">\n",
       "      <th></th>\n",
       "      <th>fragseq</th>\n",
       "      <th>lightmz</th>\n",
       "      <th>heavymz</th>\n",
       "    </tr>\n",
       "  </thead>\n",
       "  <tbody>\n",
       "    <tr>\n",
       "      <th>2</th>\n",
       "      <td>IAVTR</td>\n",
       "      <td>559.356222</td>\n",
       "      <td>569.364492</td>\n",
       "    </tr>\n",
       "    <tr>\n",
       "      <th>3</th>\n",
       "      <td>AVTR</td>\n",
       "      <td>446.272158</td>\n",
       "      <td>456.280428</td>\n",
       "    </tr>\n",
       "    <tr>\n",
       "      <th>1</th>\n",
       "      <td>IIAVTR</td>\n",
       "      <td>672.440286</td>\n",
       "      <td>682.448556</td>\n",
       "    </tr>\n",
       "  </tbody>\n",
       "</table>\n",
       "</div>"
      ],
      "text/plain": [
       "  fragseq     lightmz     heavymz\n",
       "2   IAVTR  559.356222  569.364492\n",
       "3    AVTR  446.272158  456.280428\n",
       "1  IIAVTR  672.440286  682.448556"
      ]
     },
     "execution_count": 262,
     "metadata": {},
     "output_type": "execute_result"
    }
   ],
   "source": [
    "p1qf"
   ]
  },
  {
   "cell_type": "code",
   "execution_count": 265,
   "metadata": {},
   "outputs": [],
   "source": [
    "libmzarray = libfileobj.get_by_id(specname)['m/z array'].tolist()\n",
    "libintarray = libfileobj.get_by_id(specname)['intensity array'].tolist()"
   ]
  },
  {
   "cell_type": "code",
   "execution_count": 271,
   "metadata": {},
   "outputs": [
    {
     "data": {
      "text/plain": [
       "Text(0.5, 1.0, 'library spectra, APIIAVTR')"
      ]
     },
     "execution_count": 271,
     "metadata": {},
     "output_type": "execute_result"
    },
    {
     "data": {
      "image/png": "[encoded data removed]",
      "text/plain": [
       "<Figure size 864x288 with 1 Axes>"
      ]
     },
     "metadata": {
      "needs_background": "light"
     },
     "output_type": "display_data"
    }
   ],
   "source": [
    "\n",
    "rcParams['figure.figsize'] = 12, 4\n",
    "i=0\n",
    "for x in libmzarray:\n",
    "    plt.plot([x,x], [0, libintarray[i]], 'k')\n",
    "    i=i+1\n",
    "plt.title(\"library spectra, \"+ SEQ)"
   ]
  },
  {
   "cell_type": "markdown",
   "metadata": {},
   "source": [
    "### Function to get fragment ion masses from sequence"
   ]
  },
  {
   "cell_type": "code",
   "execution_count": 185,
   "metadata": {},
   "outputs": [],
   "source": [
    "### cell to make tmpmzarray and tmpintarray for test of following functions \n",
    "# DELETE FROM SCRIPT VERSION #\n",
    "i = 1\n",
    "## check peptide # 1 and #10\n",
    "with mzxml.read(\"P:/JGM_DI2A/SILAC/20190412_DI2A_1to1_tMS2_n3.mzXML\") as tmpquantfile:\n",
    "    #for x in quantscans: #loop throught the scans once this works using the part below by replacing the first list grab with x\n",
    "    tmpmzarray = tmpquantfile.get_by_id(str(sortedpepdf['quantscans'].tolist()[i][0]))['m/z array']\n",
    "    tmpintarray = tmpquantfile.get_by_id(str(sortedpepdf['quantscans'][i][0]))['intensity array']"
   ]
  },
  {
   "cell_type": "code",
   "execution_count": 186,
   "metadata": {},
   "outputs": [
    {
     "name": "stdout",
     "output_type": "stream",
     "text": [
      "0.005986928939819336elapsed\n"
     ]
    }
   ],
   "source": [
    "# to extract the int values between two other values\n",
    "def getFragMz(pred_mass, mz_array, int_array, ppm):\n",
    "    ''' \n",
    "    PURPOSE:\n",
    "    Find observed m/z value matching theoretical value in spectra\n",
    "    \n",
    "    INPUTS:\n",
    "    pred_mass = the theoretical mass of the fragment ion\n",
    "    mz_array = numpy array of all peak masses in the spectra\n",
    "    int_array = numpy array of all peak intensities in the spectra\n",
    "    ppm = the mass tolerance for the fragments in ppm\n",
    "    \n",
    "    OUTPUT:\n",
    "    numpy array containing the value of the m/z found\n",
    "    \n",
    "    '''\n",
    "    lowmz = pred_mass - pred_mass*ppm/1000000\n",
    "    highmz = pred_mass + pred_mass*ppm/1000000\n",
    "    found = np.extract([np.all([x>=lowmz, x<=highmz]) for x in mz_array], mz_array)\n",
    "    if len(found)==0:\n",
    "        found = [1]\n",
    "    return(found[0])\n",
    "\n",
    "## function test\n",
    "st = time.time()\n",
    "getFragMz(300.12, tmpmzarray, tmpintarray, 10)\n",
    "print(str(time.time() - st)+'elapsed')"
   ]
  },
  {
   "cell_type": "code",
   "execution_count": 187,
   "metadata": {},
   "outputs": [
    {
     "data": {
      "text/plain": [
       "[366.0215759277344]"
      ]
     },
     "execution_count": 187,
     "metadata": {},
     "output_type": "execute_result"
    }
   ],
   "source": [
    "mzlist = tmpmzarray.tolist()\n",
    "intlist = tmpintarray.tolist()\n",
    "[intlist[index] for index, value in enumerate(mzlist) if value>300 and value<300.12]"
   ]
  },
  {
   "cell_type": "code",
   "execution_count": 188,
   "metadata": {},
   "outputs": [
    {
     "data": {
      "text/plain": [
       "0.005986499786376953"
      ]
     },
     "execution_count": 188,
     "metadata": {},
     "output_type": "execute_result"
    }
   ],
   "source": [
    "# to extract the int values between two other values\n",
    "def getFragInt(pred_mass, mz_array, int_array, ppmpct, noiselevel):\n",
    "    ''' \n",
    "    PURPOSE:\n",
    "    Find observed intensity for theoretical m/z value in spectra\n",
    "    \n",
    "    INPUTS:\n",
    "    pred_mass = the theoretical mass of the fragment ion\n",
    "    mz_array = numpy array of all peak masses in the spectra\n",
    "    int_array = numpy array of all peak intensities in the spectra\n",
    "    ppm = the mass tolerance for the fragments in ppm\n",
    "    noiselevel = value to be subtracted from each value\n",
    "    \n",
    "    OUTPUTS:\n",
    "    numpy array containing the intensity for any m/z found\n",
    "    \n",
    "    '''\n",
    "    \n",
    "    lowmz = pred_mass - pred_mass*ppmpct\n",
    "    highmz = pred_mass + pred_mass*ppmpct\n",
    "    found = np.extract([np.all([x>=lowmz, x<=highmz]) for x in mz_array], int_array)\n",
    "    found = [intlist[index] for index, value in enumerate(mzlist) if value>300 and value<300.12]\n",
    "    #found = found-noiselevel\n",
    "    if len(found)==0:\n",
    "        found = [1]\n",
    "    return(found[0])\n",
    "    #return(highmz)\n",
    "\n",
    "## function test\n",
    "st = time.time()\n",
    "tmptestint = getFragInt(300.12, tmpmzarray, tmpintarray, 1e-5,  250)\n",
    "tmptestint = getFragInt(300.12, tmpmzarray, tmpintarray, 1e-5,  250)\n",
    "tmptestint = getFragInt(300.12, tmpmzarray, tmpintarray, 1e-5,  250)\n",
    "tmptestint = getFragInt(300.12, tmpmzarray, tmpintarray, 1e-5,  250)\n",
    "tmptestint = getFragInt(300.12, tmpmzarray, tmpintarray, 1e-5,  250)\n",
    "tmptestint = getFragInt(300.12, tmpmzarray, tmpintarray, 1e-5,  250)\n",
    "tmptestint = getFragInt(300.12, tmpmzarray, tmpintarray, 1e-5,  250)\n",
    "tmptestint = getFragInt(300.12, tmpmzarray, tmpintarray, 1e-5,  250)\n",
    "tmptestint = getFragInt(300.12, tmpmzarray, tmpintarray, 1e-5,  250)\n",
    "tmptestint = getFragInt(300.12, tmpmzarray, tmpintarray, 1e-5,  250)\n",
    "(time.time() - st)/10"
   ]
  },
  {
   "cell_type": "code",
   "execution_count": 189,
   "metadata": {},
   "outputs": [
    {
     "data": {
      "text/plain": [
       "0.0017981529235839844"
      ]
     },
     "execution_count": 189,
     "metadata": {},
     "output_type": "execute_result"
    }
   ],
   "source": [
    "# to extract the int values between two other values\n",
    "def getFragInt(pred_mass, mz_list, int_list, ppmpct):\n",
    "    ''' \n",
    "    PURPOSE:\n",
    "    Find observed intensity for theoretical m/z value in spectra\n",
    "    \n",
    "    INPUTS:\n",
    "    pred_mass = the theoretical mass of the fragment ion\n",
    "    mz_array = numpy array of all peak masses in the spectra\n",
    "    int_array = numpy array of all peak intensities in the spectra\n",
    "    ppm = the mass tolerance for the fragments in ppm\n",
    "    noiselevel = value to be subtracted from each value\n",
    "    \n",
    "    OUTPUTS:\n",
    "    numpy array containing the intensity for any m/z found\n",
    "    \n",
    "    '''\n",
    "    \n",
    "    lowmz = pred_mass - pred_mass*ppmpct\n",
    "    highmz = pred_mass + pred_mass*ppmpct\n",
    "    found = [int_list[index] for index, value in enumerate(mz_list) if value>lowmz and value<highmz]\n",
    "    #found = found-noiselevel\n",
    "    if len(found)==0:\n",
    "        found = [1]\n",
    "    return(found[0])\n",
    "    #return(highmz)\n",
    "\n",
    "## function test\n",
    "st = time.time()\n",
    "tmptestint = getFragInt(300.12, tmpmzarray, tmpintarray, 5e-6)\n",
    "tmptestint = getFragInt(300.12, tmpmzarray, tmpintarray, 1e-5)\n",
    "tmptestint = getFragInt(300.12, tmpmzarray, tmpintarray, 1e-5)\n",
    "tmptestint = getFragInt(300.12, tmpmzarray, tmpintarray, 1e-5)\n",
    "tmptestint = getFragInt(300.12, tmpmzarray, tmpintarray, 1e-5)\n",
    "tmptestint = getFragInt(300.12, tmpmzarray, tmpintarray, 1e-5)\n",
    "tmptestint = getFragInt(300.12, tmpmzarray, tmpintarray, 1e-5)\n",
    "tmptestint = getFragInt(300.12, tmpmzarray, tmpintarray, 1e-5)\n",
    "tmptestint = getFragInt(300.12, tmpmzarray, tmpintarray, 1e-5)\n",
    "tmptestint = getFragInt(300.12, tmpmzarray, tmpintarray, 1e-5)\n",
    "(time.time() - st)/10"
   ]
  },
  {
   "cell_type": "markdown",
   "metadata": {},
   "source": [
    "# Loop through files to quantify and extract fragment ion signals"
   ]
  },
  {
   "cell_type": "code",
   "execution_count": 272,
   "metadata": {},
   "outputs": [],
   "source": [
    "#subset of without 16x\n",
    "fileslist = [\"P:/JGM_DI2A/SILAC/20190412_DI2A_1to8_tMS2_n1.mzXML\",\n",
    "             \"P:/JGM_DI2A/SILAC/20190412_DI2A_1to8_tMS2_n2.mzXML\",\n",
    "             \"P:/JGM_DI2A/SILAC/20190412_DI2A_1to8_tMS2_n3.mzXML\",\n",
    "             \"P:/JGM_DI2A/SILAC/20190412_DI2A_1to4_tMS2_n1.mzXML\",\n",
    "             \"P:/JGM_DI2A/SILAC/20190412_DI2A_1to4_tMS2_n2.mzXML\",\n",
    "             \"P:/JGM_DI2A/SILAC/20190412_DI2A_1to4_tMS2_n3.mzXML\",\n",
    "             \"P:/JGM_DI2A/SILAC/20190412_DI2A_1to2_tMS2_n1.mzXML\",\n",
    "             \"P:/JGM_DI2A/SILAC/20190412_DI2A_1to2_tMS2_n2.mzXML\",\n",
    "             \"P:/JGM_DI2A/SILAC/20190412_DI2A_1to2_tMS2_n3.mzXML\",\n",
    "             \"P:/JGM_DI2A/SILAC/20190412_DI2A_1to1_tMS2_n1.mzXML\",\n",
    "             \"P:/JGM_DI2A/SILAC/20190412_DI2A_1to1_tMS2_n2.mzXML\",\n",
    "             \"P:/JGM_DI2A/SILAC/20190412_DI2A_1to1_tMS2_n3.mzXML\",\n",
    "             \"P:/JGM_DI2A/SILAC/20190412_DI2A_2to1_tMS2_n1.mzXML\",\n",
    "             \"P:/JGM_DI2A/SILAC/20190412_DI2A_2to1_tMS2_n2.mzXML\",\n",
    "             \"P:/JGM_DI2A/SILAC/20190412_DI2A_2to1_tMS2_n3.mzXML\",\n",
    "             \"P:/JGM_DI2A/SILAC/20190412_DI2A_4to1_tMS2_n1.mzXML\",\n",
    "             \"P:/JGM_DI2A/SILAC/20190412_DI2A_4to1_tMS2_n2.mzXML\",\n",
    "             \"P:/JGM_DI2A/SILAC/20190412_DI2A_4to1_tMS2_n3.mzXML\",\n",
    "             \"P:/JGM_DI2A/SILAC/20190412_DI2A_8to1_tMS2_n1.mzXML\",\n",
    "             \"P:/JGM_DI2A/SILAC/20190412_DI2A_8to1_tMS2_n2.mzXML\",\n",
    "             \"P:/JGM_DI2A/SILAC/20190412_DI2A_8to1_tMS2_n3.mzXML\"\n",
    "            ]"
   ]
  },
  {
   "cell_type": "code",
   "execution_count": 273,
   "metadata": {},
   "outputs": [],
   "source": [
    "speclib = mgf.read('P:/JGM_DI2A/MSPLIT-DIAv1.0/human.faims.fixed.decoy.mgf')"
   ]
  },
  {
   "cell_type": "code",
   "execution_count": 197,
   "metadata": {},
   "outputs": [],
   "source": [
    "#fileslist[0:9]"
   ]
  },
  {
   "cell_type": "code",
   "execution_count": 205,
   "metadata": {
    "scrolled": true
   },
   "outputs": [
    {
     "name": "stdout",
     "output_type": "stream",
     "text": [
      "file= P:/JGM_DI2A/SILAC/20190412_DI2A_1to8_tMS2_n1.mzXML, quantified 15.438966080034067 spectra per second\n",
      "file= P:/JGM_DI2A/SILAC/20190412_DI2A_1to8_tMS2_n2.mzXML, quantified 15.373458883418003 spectra per second\n",
      "file= P:/JGM_DI2A/SILAC/20190412_DI2A_1to8_tMS2_n3.mzXML, quantified 15.055197233353766 spectra per second\n",
      "file= P:/JGM_DI2A/SILAC/20190412_DI2A_1to4_tMS2_n1.mzXML, quantified 14.482014488533915 spectra per second\n",
      "file= P:/JGM_DI2A/SILAC/20190412_DI2A_1to4_tMS2_n2.mzXML, quantified 14.796323157187189 spectra per second\n",
      "file= P:/JGM_DI2A/SILAC/20190412_DI2A_1to4_tMS2_n3.mzXML, quantified 14.942093773339824 spectra per second\n",
      "file= P:/JGM_DI2A/SILAC/20190412_DI2A_1to2_tMS2_n1.mzXML, quantified 15.225169862069656 spectra per second\n",
      "file= P:/JGM_DI2A/SILAC/20190412_DI2A_1to2_tMS2_n2.mzXML, quantified 15.04784101149457 spectra per second\n",
      "file= P:/JGM_DI2A/SILAC/20190412_DI2A_1to2_tMS2_n3.mzXML, quantified 15.564244901658032 spectra per second\n",
      "file= P:/JGM_DI2A/SILAC/20190412_DI2A_1to1_tMS2_n1.mzXML, quantified 15.024079120525712 spectra per second\n",
      "file= P:/JGM_DI2A/SILAC/20190412_DI2A_1to1_tMS2_n2.mzXML, quantified 14.721705271350004 spectra per second\n",
      "file= P:/JGM_DI2A/SILAC/20190412_DI2A_1to1_tMS2_n3.mzXML, quantified 14.781429807894352 spectra per second\n",
      "file= P:/JGM_DI2A/SILAC/20190412_DI2A_2to1_tMS2_n1.mzXML, quantified 14.523153190939544 spectra per second\n",
      "file= P:/JGM_DI2A/SILAC/20190412_DI2A_2to1_tMS2_n2.mzXML, quantified 14.497450830992499 spectra per second\n",
      "file= P:/JGM_DI2A/SILAC/20190412_DI2A_2to1_tMS2_n3.mzXML, quantified 14.662410672909582 spectra per second\n",
      "file= P:/JGM_DI2A/SILAC/20190412_DI2A_4to1_tMS2_n1.mzXML, quantified 14.157156606518756 spectra per second\n",
      "file= P:/JGM_DI2A/SILAC/20190412_DI2A_4to1_tMS2_n2.mzXML, quantified 14.286550569088414 spectra per second\n",
      "file= P:/JGM_DI2A/SILAC/20190412_DI2A_4to1_tMS2_n3.mzXML, quantified 14.466572323871205 spectra per second\n",
      "file= P:/JGM_DI2A/SILAC/20190412_DI2A_8to1_tMS2_n1.mzXML, quantified 15.92656543030538 spectra per second\n",
      "file= P:/JGM_DI2A/SILAC/20190412_DI2A_8to1_tMS2_n2.mzXML, quantified 16.110552086650156 spectra per second\n",
      "file= P:/JGM_DI2A/SILAC/20190412_DI2A_8to1_tMS2_n3.mzXML, quantified 15.964381969050613 spectra per second\n",
      "2337.717958688736\n"
     ]
    }
   ],
   "source": [
    "## version that doesnt use noise\n",
    "# pretty slow for some reason\n",
    "resultsdict = {}\n",
    "stt = time.time()\n",
    "for k in fileslist:\n",
    "    meanratio_list = []\n",
    "    medianratio_list= []\n",
    "    matchdf_list = []\n",
    "    ppmpct = 10e-6\n",
    "    with mzxml.read(k) as tmpquantfile:\n",
    "        quantscans=sortedpepdf['quantscans'].tolist()\n",
    "        peplist = sortedpepdf['Peptide'].tolist()\n",
    "        specnamelist = sortedpepdf['Name'].tolist()\n",
    "        looplen = len(sortedpepdf)\n",
    "        st = time.time()\n",
    "        for i in range(0, looplen):\n",
    "            tmp_qf = getQuantFragsFromLib(peplist[i], specnamelist[i], speclib)\n",
    "            tmpmzarray = tmpquantfile.get_by_id(str(quantscans[i][0]))['m/z array'].tolist()\n",
    "            tmpintarray = tmpquantfile.get_by_id(str(quantscans[i][0]))['intensity array'].tolist()\n",
    "            lightints = [getFragInt(x, tmpmzarray, tmpintarray, ppmpct) for x in tmp_qf['lightmz']]\n",
    "            heavyints = [getFragInt(x, tmpmzarray, tmpintarray, ppmpct) for x in tmp_qf['heavymz']]\n",
    "            #lightmzfound = [getFragMz(x, tmpmzarray, tmpintarray, ppm) for x in tmp_qf['lightmz']]\n",
    "            #heavymzfound = [getFragMz(x, tmpmzarray, tmpintarray, ppm) for x in tmp_qf['heavymz']]\n",
    "            ratios = [x/y for x,y in zip(heavyints, lightints)]\n",
    "            #tmp_qf['lightmzfound'] = lightmzfound\n",
    "            #tmp_qf['heavymzfound'] = heavymzfound\n",
    "            tmp_qf['lightint'] = lightints\n",
    "            tmp_qf['heavyint'] = heavyints\n",
    "            tmp_qf['HLratios'] = ratios\n",
    "            matchdf_list.append(tmp_qf)\n",
    "\n",
    "            # remove values that are both zero, compute new ratios\n",
    "            intsum = [sum(x) for x in zip(heavyints, lightints)]\n",
    "            rm = [index for index, value in enumerate(intsum) if value==2] # get index of values that are both 1 \n",
    "            for x in sorted(rm, reverse=True):\n",
    "                del lightints[x]\n",
    "                del heavyints[x]\n",
    "            rm0ratios = [x/y for x,y in zip(heavyints, lightints)]\n",
    "\n",
    "            # check if there are less than 3 ratios total, if so, set ratio to empty\n",
    "            if len(lightints)<3:\n",
    "                meanratio_list.append([])\n",
    "                medianratio_list.append([])\n",
    "            else:\n",
    "                meanratio_list.append(np.mean(rm0ratios))\n",
    "                medianratio_list.append(np.median(rm0ratios))\n",
    "            #print('time for 1 spec= '+str(time.time()-sts))\n",
    "        print('file= '+k+', quantified '+str(looplen/(time.time()-st))+' spectra per second')\n",
    "    resultsdict[k] = [matchdf_list, medianratio_list, meanratio_list]\n",
    "print(time.time()-stt)"
   ]
  },
  {
   "cell_type": "markdown",
   "metadata": {},
   "source": [
    "### pickle the quant results to enable re-loading later"
   ]
  },
  {
   "cell_type": "code",
   "execution_count": 206,
   "metadata": {},
   "outputs": [],
   "source": [
    "with open('results_10ppm_3libfrag_exlude16x.pkl', 'wb') as f:\n",
    "    pickle.dump(resultsdict, f)"
   ]
  },
  {
   "cell_type": "markdown",
   "metadata": {},
   "source": [
    "# Start here to reload the pickle results and skip Quant step"
   ]
  },
  {
   "cell_type": "code",
   "execution_count": 7,
   "metadata": {},
   "outputs": [],
   "source": [
    "with open('results_10ppm_3libfrags.pkl', 'rb') as f:\n",
    "    resultsdict = pickle.load(f)"
   ]
  },
  {
   "cell_type": "code",
   "execution_count": 274,
   "metadata": {},
   "outputs": [
    {
     "data": {
      "text/html": [
       "<div>\n",
       "<style scoped>\n",
       "    .dataframe tbody tr th:only-of-type {\n",
       "        vertical-align: middle;\n",
       "    }\n",
       "\n",
       "    .dataframe tbody tr th {\n",
       "        vertical-align: top;\n",
       "    }\n",
       "\n",
       "    .dataframe thead th {\n",
       "        text-align: right;\n",
       "    }\n",
       "</style>\n",
       "<table border=\"1\" class=\"dataframe\">\n",
       "  <thead>\n",
       "    <tr style=\"text-align: right;\">\n",
       "      <th></th>\n",
       "      <th>fragseq</th>\n",
       "      <th>lightmz</th>\n",
       "      <th>heavymz</th>\n",
       "      <th>lightint</th>\n",
       "      <th>heavyint</th>\n",
       "      <th>HLratios</th>\n",
       "    </tr>\n",
       "  </thead>\n",
       "  <tbody>\n",
       "    <tr>\n",
       "      <th>4</th>\n",
       "      <td>DTSSEITTK</td>\n",
       "      <td>981.473496</td>\n",
       "      <td>989.487695</td>\n",
       "      <td>15145.867188</td>\n",
       "      <td>1849.950195</td>\n",
       "      <td>0.122142</td>\n",
       "    </tr>\n",
       "    <tr>\n",
       "      <th>3</th>\n",
       "      <td>VDTSSEITTK</td>\n",
       "      <td>1080.541910</td>\n",
       "      <td>1088.556109</td>\n",
       "      <td>8882.348633</td>\n",
       "      <td>954.845276</td>\n",
       "      <td>0.107499</td>\n",
       "    </tr>\n",
       "    <tr>\n",
       "      <th>10</th>\n",
       "      <td>TTK</td>\n",
       "      <td>349.208161</td>\n",
       "      <td>357.222360</td>\n",
       "      <td>4377.587891</td>\n",
       "      <td>450.101593</td>\n",
       "      <td>0.102820</td>\n",
       "    </tr>\n",
       "  </tbody>\n",
       "</table>\n",
       "</div>"
      ],
      "text/plain": [
       "       fragseq      lightmz      heavymz      lightint     heavyint  HLratios\n",
       "4    DTSSEITTK   981.473496   989.487695  15145.867188  1849.950195  0.122142\n",
       "3   VDTSSEITTK  1080.541910  1088.556109   8882.348633   954.845276  0.107499\n",
       "10         TTK   349.208161   357.222360   4377.587891   450.101593  0.102820"
      ]
     },
     "execution_count": 274,
     "metadata": {},
     "output_type": "execute_result"
    }
   ],
   "source": [
    "resultsdict['P:/JGM_DI2A/SILAC/20190412_DI2A_1to8_tMS2_n1.mzXML'][0][3]\n",
    "#==testrd1['P:/JGM_DI2A/SILAC/20190412_DI2A_1to16_tMS2_n1.mzXML']"
   ]
  },
  {
   "cell_type": "markdown",
   "metadata": {},
   "source": [
    "## Plot the median values"
   ]
  },
  {
   "cell_type": "markdown",
   "metadata": {},
   "source": [
    "### Plot the boxplots for all replicates"
   ]
  },
  {
   "cell_type": "code",
   "execution_count": 275,
   "metadata": {},
   "outputs": [],
   "source": [
    "allmedians = []\n",
    "allmeans = []\n",
    "for x in fileslist:\n",
    "    tmpmedians = resultsdict[x][1]\n",
    "    tmpmeans = resultsdict[x][2]\n",
    "    allmedians.append([np.log2(x) for x in tmpmedians if type(x) != list ])\n",
    "    allmeans.append([np.log2(x) for x in tmpmeans if type(x) != list ])"
   ]
  },
  {
   "cell_type": "code",
   "execution_count": 276,
   "metadata": {},
   "outputs": [],
   "source": [
    "i=1\n",
    "xvals = []\n",
    "for x in allmedians:\n",
    "    xvals = xvals +[i]*len(x)\n",
    "    i+=1"
   ]
  },
  {
   "cell_type": "code",
   "execution_count": 279,
   "metadata": {},
   "outputs": [
    {
     "data": {
      "text/plain": [
       "[1419,\n",
       " 1417,\n",
       " 1457,\n",
       " 1404,\n",
       " 1430,\n",
       " 1417,\n",
       " 1365,\n",
       " 1375,\n",
       " 1305,\n",
       " 1315,\n",
       " 1342,\n",
       " 1333,\n",
       " 1316,\n",
       " 1315,\n",
       " 1270,\n",
       " 1296,\n",
       " 1293,\n",
       " 1278,\n",
       " 1219,\n",
       " 1209,\n",
       " 1207]"
      ]
     },
     "execution_count": 279,
     "metadata": {},
     "output_type": "execute_result"
    }
   ],
   "source": [
    "### How many peptides were quantified in each run?\n",
    "[len(x) for x in allmedians]"
   ]
  },
  {
   "cell_type": "code",
   "execution_count": 213,
   "metadata": {},
   "outputs": [],
   "source": [
    "from pylab import rcParams\n",
    "rcParams['figure.figsize'] = 7, 4"
   ]
  },
  {
   "cell_type": "markdown",
   "metadata": {},
   "source": [
    "### Convert the multiple lists into one long list in order to generate heatmap"
   ]
  },
  {
   "cell_type": "code",
   "execution_count": 280,
   "metadata": {},
   "outputs": [],
   "source": [
    "allmedianslonglist = []\n",
    "allmeanslonglist = []\n",
    "for x in fileslist:\n",
    "    tmpmedians = resultsdict[x][1]\n",
    "    tmpmeans = resultsdict[x][2]\n",
    "    #tmpval[np.log2(y) for y in tmpmedians if type(y) != list ] \n",
    "    allmedianslonglist = allmedianslonglist + [np.log2(y) for y in tmpmedians if type(y) != list ]\n",
    "    allmeanslonglist = allmeanslonglist + [np.log2(y) for y in tmpmeans if type(y) != list ]"
   ]
  },
  {
   "cell_type": "markdown",
   "metadata": {},
   "source": [
    "## Make panel B of figure 3"
   ]
  },
  {
   "cell_type": "code",
   "execution_count": 282,
   "metadata": {},
   "outputs": [
    {
     "data": {
      "text/plain": [
       "[<matplotlib.lines.Line2D at 0x1a24578d4e0>]"
      ]
     },
     "execution_count": 282,
     "metadata": {},
     "output_type": "execute_result"
    },
    {
     "data": {
      "image/png": "[encoded data removed]",
      "text/plain": [
       "<Figure size 864x504 with 2 Axes>"
      ]
     },
     "metadata": {
      "needs_background": "light"
     },
     "output_type": "display_data"
    }
   ],
   "source": [
    "rcParams['figure.figsize'] = 12, 7\n",
    "fig, ax = plt.subplots()\n",
    "h = ax.hist2d(np.array(xvals), np.asarray(allmedianslonglist), bins=[21,32], )\n",
    "plt.ylim(-13,13)\n",
    "plt.colorbar(h[3], ax=ax)\n",
    "\n",
    "#tmp2dhist = plt.hist2d()\n",
    "#plt.plot([1, 27], [np.log2(1/16), np.log2(1/16)], color='w', linestyle='--', linewidth=1)\n",
    "plt.plot([1, 27], [np.log2(1/8), np.log2(1/8)], color='w', linestyle='--', linewidth=1)\n",
    "plt.plot([1, 27], [np.log2(1/4), np.log2(1/4)], color='w', linestyle='--', linewidth=1)\n",
    "plt.plot([1, 27], [np.log2(1/2), np.log2(1/2)], color='w', linestyle='--', linewidth=1)\n",
    "plt.plot([1, 27], [np.log2(1/1), np.log2(1/1)], color='w', linestyle='--', linewidth=1)\n",
    "plt.plot([1, 27], [np.log2(2/1), np.log2(2/1)], color='w', linestyle='--', linewidth=1)\n",
    "plt.plot([1, 27], [np.log2(4/1), np.log2(4/1)], color='w', linestyle='--', linewidth=1)\n",
    "plt.plot([1, 27], [np.log2(8/1), np.log2(8/1)], color='w', linestyle='--', linewidth=1)\n",
    "#plt.plot([1, 27], [np.log2(16/1), np.log2(16/1)], color='w', linestyle='--', linewidth=1)\n",
    "#plt.savefig('P:/JGM_DI2A/Python/outputs/top3frags_medianHM_32_exclude16x.svg', format='svg')"
   ]
  },
  {
   "cell_type": "markdown",
   "metadata": {},
   "source": [
    "## Make panel A of figure 3 from nLC-MSMS peptide quantification by MQ"
   ]
  },
  {
   "cell_type": "code",
   "execution_count": 77,
   "metadata": {},
   "outputs": [],
   "source": [
    "lc = pd.read_csv(\"P:/JGM_DI2A/20190411_SILAC_LC/MQpeptides_Quant.txt\", sep=\"\\t\")"
   ]
  },
  {
   "cell_type": "code",
   "execution_count": 81,
   "metadata": {},
   "outputs": [
    {
     "data": {
      "text/html": [
       "<div>\n",
       "<style scoped>\n",
       "    .dataframe tbody tr th:only-of-type {\n",
       "        vertical-align: middle;\n",
       "    }\n",
       "\n",
       "    .dataframe tbody tr th {\n",
       "        vertical-align: top;\n",
       "    }\n",
       "\n",
       "    .dataframe thead th {\n",
       "        text-align: right;\n",
       "    }\n",
       "</style>\n",
       "<table border=\"1\" class=\"dataframe\">\n",
       "  <thead>\n",
       "    <tr style=\"text-align: right;\">\n",
       "      <th></th>\n",
       "      <th>Sequence</th>\n",
       "      <th>N-term cleavage window</th>\n",
       "      <th>C-term cleavage window</th>\n",
       "      <th>Amino acid before</th>\n",
       "      <th>First amino acid</th>\n",
       "      <th>Second amino acid</th>\n",
       "      <th>Second last amino acid</th>\n",
       "      <th>Last amino acid</th>\n",
       "      <th>Amino acid after</th>\n",
       "      <th>A Count</th>\n",
       "      <th>...</th>\n",
       "      <th>Reverse</th>\n",
       "      <th>Potential contaminant</th>\n",
       "      <th>id</th>\n",
       "      <th>Protein group IDs</th>\n",
       "      <th>Mod. peptide IDs</th>\n",
       "      <th>Evidence IDs</th>\n",
       "      <th>MS/MS IDs</th>\n",
       "      <th>Best MS/MS</th>\n",
       "      <th>Oxidation (M) site IDs</th>\n",
       "      <th>MS/MS Count</th>\n",
       "    </tr>\n",
       "  </thead>\n",
       "  <tbody>\n",
       "    <tr>\n",
       "      <th>0</th>\n",
       "      <td>AAAAAAAAVPSAGPAGPAPTSAAGR</td>\n",
       "      <td>SPASVSAPKQILQPRAAAAAAAAVPSAGPA</td>\n",
       "      <td>SAGPAGPAPTSAAGRTFPASGGGYKASSPA</td>\n",
       "      <td>R</td>\n",
       "      <td>A</td>\n",
       "      <td>A</td>\n",
       "      <td>G</td>\n",
       "      <td>R</td>\n",
       "      <td>T</td>\n",
       "      <td>13</td>\n",
       "      <td>...</td>\n",
       "      <td>NaN</td>\n",
       "      <td>NaN</td>\n",
       "      <td>0</td>\n",
       "      <td>3527</td>\n",
       "      <td>0</td>\n",
       "      <td>0</td>\n",
       "      <td>0</td>\n",
       "      <td>0</td>\n",
       "      <td>NaN</td>\n",
       "      <td>1</td>\n",
       "    </tr>\n",
       "    <tr>\n",
       "      <th>1</th>\n",
       "      <td>ECCDKPLLEK</td>\n",
       "      <td>KYICDNQDTISSKLKECCDKPLLEKSHCIA</td>\n",
       "      <td>SSKLKECCDKPLLEKSHCIAEVEKDAIPEN</td>\n",
       "      <td>K</td>\n",
       "      <td>E</td>\n",
       "      <td>C</td>\n",
       "      <td>E</td>\n",
       "      <td>K</td>\n",
       "      <td>S</td>\n",
       "      <td>0</td>\n",
       "      <td>...</td>\n",
       "      <td>NaN</td>\n",
       "      <td>+</td>\n",
       "      <td>4203</td>\n",
       "      <td>13</td>\n",
       "      <td>4258</td>\n",
       "      <td>36188;36189;36190;36191;36192;36193;36194;3619...</td>\n",
       "      <td>48405;48406;48407;48408;48409;48410;48411;4841...</td>\n",
       "      <td>48409</td>\n",
       "      <td>NaN</td>\n",
       "      <td>11</td>\n",
       "    </tr>\n",
       "    <tr>\n",
       "      <th>2</th>\n",
       "      <td>RAAVGRPLDK</td>\n",
       "      <td>QAQYCRAAEELSKLRRAAVGRPLDKHEGAL</td>\n",
       "      <td>LSKLRRAAVGRPLDKHEGALETLLRYYDQI</td>\n",
       "      <td>R</td>\n",
       "      <td>R</td>\n",
       "      <td>A</td>\n",
       "      <td>D</td>\n",
       "      <td>K</td>\n",
       "      <td>H</td>\n",
       "      <td>2</td>\n",
       "      <td>...</td>\n",
       "      <td>NaN</td>\n",
       "      <td>NaN</td>\n",
       "      <td>18523</td>\n",
       "      <td>2500</td>\n",
       "      <td>18802</td>\n",
       "      <td>159466</td>\n",
       "      <td>211983</td>\n",
       "      <td>211983</td>\n",
       "      <td>NaN</td>\n",
       "      <td>1</td>\n",
       "    </tr>\n",
       "    <tr>\n",
       "      <th>3</th>\n",
       "      <td>AAAAADLANR</td>\n",
       "      <td>YLGFGTPSNLGKGRRAAAAADLANRSGESN</td>\n",
       "      <td>GKGRRAAAAADLANRSGESNTHQDIEEKDR</td>\n",
       "      <td>R</td>\n",
       "      <td>A</td>\n",
       "      <td>A</td>\n",
       "      <td>N</td>\n",
       "      <td>R</td>\n",
       "      <td>S</td>\n",
       "      <td>6</td>\n",
       "      <td>...</td>\n",
       "      <td>NaN</td>\n",
       "      <td>NaN</td>\n",
       "      <td>3</td>\n",
       "      <td>458</td>\n",
       "      <td>3</td>\n",
       "      <td>30</td>\n",
       "      <td>48</td>\n",
       "      <td>48</td>\n",
       "      <td>NaN</td>\n",
       "      <td>1</td>\n",
       "    </tr>\n",
       "    <tr>\n",
       "      <th>4</th>\n",
       "      <td>LVALNLDR</td>\n",
       "      <td>QLGSYDPLPNSHGEKLVALNLDRIRHWIGC</td>\n",
       "      <td>PNSHGEKLVALNLDRIRHWIGCGAHLSKPM</td>\n",
       "      <td>K</td>\n",
       "      <td>L</td>\n",
       "      <td>V</td>\n",
       "      <td>D</td>\n",
       "      <td>R</td>\n",
       "      <td>I</td>\n",
       "      <td>1</td>\n",
       "      <td>...</td>\n",
       "      <td>NaN</td>\n",
       "      <td>NaN</td>\n",
       "      <td>14769</td>\n",
       "      <td>3505</td>\n",
       "      <td>14958</td>\n",
       "      <td>128112</td>\n",
       "      <td>170548</td>\n",
       "      <td>170548</td>\n",
       "      <td>NaN</td>\n",
       "      <td>1</td>\n",
       "    </tr>\n",
       "  </tbody>\n",
       "</table>\n",
       "<p>5 rows × 152 columns</p>\n",
       "</div>"
      ],
      "text/plain": [
       "                    Sequence          N-term cleavage window  \\\n",
       "0  AAAAAAAAVPSAGPAGPAPTSAAGR  SPASVSAPKQILQPRAAAAAAAAVPSAGPA   \n",
       "1                 ECCDKPLLEK  KYICDNQDTISSKLKECCDKPLLEKSHCIA   \n",
       "2                 RAAVGRPLDK  QAQYCRAAEELSKLRRAAVGRPLDKHEGAL   \n",
       "3                 AAAAADLANR  YLGFGTPSNLGKGRRAAAAADLANRSGESN   \n",
       "4                   LVALNLDR  QLGSYDPLPNSHGEKLVALNLDRIRHWIGC   \n",
       "\n",
       "           C-term cleavage window Amino acid before First amino acid  \\\n",
       "0  SAGPAGPAPTSAAGRTFPASGGGYKASSPA                 R                A   \n",
       "1  SSKLKECCDKPLLEKSHCIAEVEKDAIPEN                 K                E   \n",
       "2  LSKLRRAAVGRPLDKHEGALETLLRYYDQI                 R                R   \n",
       "3  GKGRRAAAAADLANRSGESNTHQDIEEKDR                 R                A   \n",
       "4  PNSHGEKLVALNLDRIRHWIGCGAHLSKPM                 K                L   \n",
       "\n",
       "  Second amino acid Second last amino acid Last amino acid Amino acid after  \\\n",
       "0                 A                      G               R                T   \n",
       "1                 C                      E               K                S   \n",
       "2                 A                      D               K                H   \n",
       "3                 A                      N               R                S   \n",
       "4                 V                      D               R                I   \n",
       "\n",
       "   A Count  ...  Reverse  Potential contaminant     id  Protein group IDs  \\\n",
       "0       13  ...      NaN                    NaN      0               3527   \n",
       "1        0  ...      NaN                      +   4203                 13   \n",
       "2        2  ...      NaN                    NaN  18523               2500   \n",
       "3        6  ...      NaN                    NaN      3                458   \n",
       "4        1  ...      NaN                    NaN  14769               3505   \n",
       "\n",
       "   Mod. peptide IDs                                       Evidence IDs  \\\n",
       "0                 0                                                  0   \n",
       "1              4258  36188;36189;36190;36191;36192;36193;36194;3619...   \n",
       "2             18802                                             159466   \n",
       "3                 3                                                 30   \n",
       "4             14958                                             128112   \n",
       "\n",
       "                                           MS/MS IDs  Best MS/MS  \\\n",
       "0                                                  0           0   \n",
       "1  48405;48406;48407;48408;48409;48410;48411;4841...       48409   \n",
       "2                                             211983      211983   \n",
       "3                                                 48          48   \n",
       "4                                             170548      170548   \n",
       "\n",
       "   Oxidation (M) site IDs  MS/MS Count  \n",
       "0                     NaN            1  \n",
       "1                     NaN           11  \n",
       "2                     NaN            1  \n",
       "3                     NaN            1  \n",
       "4                     NaN            1  \n",
       "\n",
       "[5 rows x 152 columns]"
      ]
     },
     "execution_count": 81,
     "metadata": {},
     "output_type": "execute_result"
    }
   ],
   "source": [
    "lc.head()"
   ]
  },
  {
   "cell_type": "code",
   "execution_count": 284,
   "metadata": {},
   "outputs": [
    {
     "data": {
      "text/plain": [
       "7"
      ]
     },
     "execution_count": 284,
     "metadata": {},
     "output_type": "execute_result"
    }
   ],
   "source": [
    "allfc = []\n",
    "allfc.append(lc[\"Ratio H/L 1to8\"][lc[\"Ratio H/L 1to8\"].notnull()])\n",
    "allfc.append(lc[\"Ratio H/L 1to4\"][lc[\"Ratio H/L 1to4\"].notnull()])\n",
    "allfc.append(lc[\"Ratio H/L 1to2\"][lc[\"Ratio H/L 1to2\"].notnull()])\n",
    "allfc.append(lc[\"Ratio H/L 1to1\"][lc[\"Ratio H/L 1to1\"].notnull()])\n",
    "allfc.append(lc[\"Ratio H/L 2to1\"][lc[\"Ratio H/L 2to1\"].notnull()])\n",
    "allfc.append(lc[\"Ratio H/L 4to1\"][lc[\"Ratio H/L 4to1\"].notnull()])\n",
    "allfc.append(lc[\"Ratio H/L 8to1\"][lc[\"Ratio H/L 8to1\"].notnull()])\n",
    "print(len(allfc))\n",
    "print(len(allratioslc))"
   ]
  },
  {
   "cell_type": "code",
   "execution_count": 229,
   "metadata": {},
   "outputs": [
    {
     "name": "stdout",
     "output_type": "stream",
     "text": [
      "7841\n",
      "11001\n",
      "13243\n",
      "14536\n",
      "13454\n",
      "7966\n",
      "6855\n"
     ]
    }
   ],
   "source": [
    "i=1\n",
    "xvals2 = []\n",
    "for x in allfc:\n",
    "    print(len(x))\n",
    "    xvals2 = xvals2 +[i]*len(x)\n",
    "    i+=1"
   ]
  },
  {
   "cell_type": "markdown",
   "metadata": {},
   "source": [
    "## Make panel A of figure 3"
   ]
  },
  {
   "cell_type": "code",
   "execution_count": 233,
   "metadata": {},
   "outputs": [
    {
     "data": {
      "image/png": "[encoded data removed]",
      "text/plain": [
       "<Figure size 360x504 with 2 Axes>"
      ]
     },
     "metadata": {
      "needs_background": "light"
     },
     "output_type": "display_data"
    }
   ],
   "source": [
    "rcParams['figure.figsize'] = 5, 7\n",
    "fig, ax = plt.subplots()\n",
    "h = ax.hist2d(np.array(xvals2), np.asarray(np.log2(allratioslc)), bins=[7,31], range=[[1,8],[-15,15]])\n",
    "plt.ylim(-14,14)\n",
    "plt.colorbar(h[3], ax=ax)\n",
    "\n",
    "#tmp2dhist = plt.hist2d()\n",
    "#plt.plot([1, 27], [np.log2(1/16), np.log2(1/16)], color='w', linestyle='--', linewidth=1)\n",
    "plt.plot([1, 27], [np.log2(1/8), np.log2(1/8)], color='w', linestyle='--', linewidth=1)\n",
    "plt.plot([1, 27], [np.log2(1/4), np.log2(1/4)], color='w', linestyle='--', linewidth=1)\n",
    "plt.plot([1, 27], [np.log2(1/2), np.log2(1/2)], color='w', linestyle='--', linewidth=1)\n",
    "plt.plot([1, 27], [np.log2(1/1), np.log2(1/1)], color='w', linestyle='--', linewidth=1)\n",
    "plt.plot([1, 27], [np.log2(2/1), np.log2(2/1)], color='w', linestyle='--', linewidth=1)\n",
    "plt.plot([1, 27], [np.log2(4/1), np.log2(4/1)], color='w', linestyle='--', linewidth=1)\n",
    "plt.plot([1, 27], [np.log2(8/1), np.log2(8/1)], color='w', linestyle='--', linewidth=1)\n",
    "#plt.plot([1, 27], [np.log2(16/1), np.log2(16/1)], color='w', linestyle='--', linewidth=1)\n",
    "plt.savefig('P:/JGM_DI2A/Python/outputs/top3frags_medianHM_31_lc_ex16.svg', format='svg')"
   ]
  },
  {
   "cell_type": "markdown",
   "metadata": {},
   "source": [
    "# Targeted Quantification of the"
   ]
  },
  {
   "cell_type": "code",
   "execution_count": null,
   "metadata": {},
   "outputs": [],
   "source": []
  }
 ],
 "metadata": {
  "kernelspec": {
   "display_name": "pyms",
   "language": "python",
   "name": "pyms"
  },
  "language_info": {
   "codemirror_mode": {
    "name": "ipython",
    "version": 3
   },
   "file_extension": ".py",
   "mimetype": "text/x-python",
   "name": "python",
   "nbconvert_exporter": "python",
   "pygments_lexer": "ipython3",
   "version": "3.6.8"
  }
 },
 "nbformat": 4,
 "nbformat_minor": 2
}
