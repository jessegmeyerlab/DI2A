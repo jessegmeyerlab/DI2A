{
 "cells": [
  {
   "cell_type": "code",
   "execution_count": 1,
   "metadata": {},
   "outputs": [],
   "source": [
    "from pyteomics import mgf\n",
    "from pyteomics import mzxml\n",
    "from pyteomics import mass\n",
    "\n",
    "import pandas as pd\n",
    "import numpy as np\n",
    "import re\n",
    "import pickle\n",
    "import timeit\n",
    "import time\n",
    "import seaborn as sns\n",
    "import matplotlib.pyplot as plt\n",
    "import os\n",
    "from pylab import rcParams\n",
    "from sklearn.metrics import r2_score\n",
    "\n",
    "from scipy.stats import ttest_ind, spearmanr\n",
    "import scipy.stats as stats\n",
    "from scipy.stats import zscore\n",
    "\n",
    "import statsmodels.api as sm\n",
    "from statsmodels.formula.api import ols\n",
    "import statsmodels.stats.multicomp"
   ]
  },
  {
   "cell_type": "code",
   "execution_count": 4,
   "metadata": {},
   "outputs": [],
   "source": [
    "dfmerge  = pd.read_csv('P:/JGM_DI2A/Python/outputs/mitotox3/1ions12ppm_protein_quant_data_table.csv')"
   ]
  },
  {
   "cell_type": "code",
   "execution_count": 5,
   "metadata": {},
   "outputs": [
    {
     "data": {
      "text/html": [
       "<div>\n",
       "<style scoped>\n",
       "    .dataframe tbody tr th:only-of-type {\n",
       "        vertical-align: middle;\n",
       "    }\n",
       "\n",
       "    .dataframe tbody tr th {\n",
       "        vertical-align: top;\n",
       "    }\n",
       "\n",
       "    .dataframe thead th {\n",
       "        text-align: right;\n",
       "    }\n",
       "</style>\n",
       "<table border=\"1\" class=\"dataframe\">\n",
       "  <thead>\n",
       "    <tr style=\"text-align: right;\">\n",
       "      <th></th>\n",
       "      <th>Unnamed: 0</th>\n",
       "      <th>key_0</th>\n",
       "      <th>Sample</th>\n",
       "      <th>Cell line</th>\n",
       "      <th>Genotype</th>\n",
       "      <th>Media</th>\n",
       "      <th>Compound</th>\n",
       "      <th>concentration</th>\n",
       "      <th>Treatment duration</th>\n",
       "      <th>Control group</th>\n",
       "      <th>...</th>\n",
       "      <th>xCX6B1_HUMAN</th>\n",
       "      <th>xTCTP_HUMAN</th>\n",
       "      <th>xMARE1_HUMAN</th>\n",
       "      <th>xRL30_HUMAN</th>\n",
       "      <th>xVDAC1_HUMAN</th>\n",
       "      <th>xFPPS_HUMAN</th>\n",
       "      <th>xTRAP1_HUMAN</th>\n",
       "      <th>xSYMC_HUMAN</th>\n",
       "      <th>xTXNL1_HUMAN</th>\n",
       "      <th>xRBM8A_HUMAN</th>\n",
       "    </tr>\n",
       "  </thead>\n",
       "  <tbody>\n",
       "    <tr>\n",
       "      <th>84</th>\n",
       "      <td>84</td>\n",
       "      <td>85</td>\n",
       "      <td>85</td>\n",
       "      <td>293T</td>\n",
       "      <td>WT</td>\n",
       "      <td>DMEM</td>\n",
       "      <td>4-NB</td>\n",
       "      <td>1 mM</td>\n",
       "      <td>7 day</td>\n",
       "      <td>24h</td>\n",
       "      <td>...</td>\n",
       "      <td>0.060563</td>\n",
       "      <td>-0.594394</td>\n",
       "      <td>-0.079220</td>\n",
       "      <td>0.015354</td>\n",
       "      <td>-0.208599</td>\n",
       "      <td>0.357648</td>\n",
       "      <td>-0.244762</td>\n",
       "      <td>1.140630</td>\n",
       "      <td>1.692158</td>\n",
       "      <td>2.174907</td>\n",
       "    </tr>\n",
       "    <tr>\n",
       "      <th>85</th>\n",
       "      <td>85</td>\n",
       "      <td>86</td>\n",
       "      <td>86</td>\n",
       "      <td>293T</td>\n",
       "      <td>WT</td>\n",
       "      <td>DMEM</td>\n",
       "      <td>4-NB</td>\n",
       "      <td>1 mM</td>\n",
       "      <td>7 day</td>\n",
       "      <td>24h</td>\n",
       "      <td>...</td>\n",
       "      <td>0.987311</td>\n",
       "      <td>-0.615167</td>\n",
       "      <td>-1.319713</td>\n",
       "      <td>0.029817</td>\n",
       "      <td>-0.200257</td>\n",
       "      <td>0.702699</td>\n",
       "      <td>1.057101</td>\n",
       "      <td>1.262653</td>\n",
       "      <td>1.380081</td>\n",
       "      <td>1.602328</td>\n",
       "    </tr>\n",
       "    <tr>\n",
       "      <th>86</th>\n",
       "      <td>86</td>\n",
       "      <td>87</td>\n",
       "      <td>87</td>\n",
       "      <td>293T</td>\n",
       "      <td>WT</td>\n",
       "      <td>DMEM</td>\n",
       "      <td>4-NB</td>\n",
       "      <td>1 mM</td>\n",
       "      <td>7 day</td>\n",
       "      <td>24h</td>\n",
       "      <td>...</td>\n",
       "      <td>0.142307</td>\n",
       "      <td>-0.867102</td>\n",
       "      <td>-0.147405</td>\n",
       "      <td>-2.349797</td>\n",
       "      <td>-0.518479</td>\n",
       "      <td>0.161465</td>\n",
       "      <td>-0.129915</td>\n",
       "      <td>0.785918</td>\n",
       "      <td>1.034025</td>\n",
       "      <td>0.821583</td>\n",
       "    </tr>\n",
       "    <tr>\n",
       "      <th>87</th>\n",
       "      <td>87</td>\n",
       "      <td>88</td>\n",
       "      <td>88</td>\n",
       "      <td>293T</td>\n",
       "      <td>WT</td>\n",
       "      <td>HPLM</td>\n",
       "      <td>4-NB</td>\n",
       "      <td>1 mM</td>\n",
       "      <td>7 day</td>\n",
       "      <td>24h</td>\n",
       "      <td>...</td>\n",
       "      <td>0.606894</td>\n",
       "      <td>-0.820729</td>\n",
       "      <td>NaN</td>\n",
       "      <td>-0.045384</td>\n",
       "      <td>0.073957</td>\n",
       "      <td>0.674998</td>\n",
       "      <td>0.783918</td>\n",
       "      <td>1.463818</td>\n",
       "      <td>0.389657</td>\n",
       "      <td>0.773647</td>\n",
       "    </tr>\n",
       "    <tr>\n",
       "      <th>88</th>\n",
       "      <td>88</td>\n",
       "      <td>89</td>\n",
       "      <td>89</td>\n",
       "      <td>293T</td>\n",
       "      <td>WT</td>\n",
       "      <td>HPLM</td>\n",
       "      <td>4-NB</td>\n",
       "      <td>1 mM</td>\n",
       "      <td>7 day</td>\n",
       "      <td>24h</td>\n",
       "      <td>...</td>\n",
       "      <td>-0.077636</td>\n",
       "      <td>-0.619734</td>\n",
       "      <td>NaN</td>\n",
       "      <td>0.170500</td>\n",
       "      <td>-0.015437</td>\n",
       "      <td>0.470689</td>\n",
       "      <td>0.224004</td>\n",
       "      <td>1.243243</td>\n",
       "      <td>0.227852</td>\n",
       "      <td>0.699431</td>\n",
       "    </tr>\n",
       "  </tbody>\n",
       "</table>\n",
       "<p>5 rows × 443 columns</p>\n",
       "</div>"
      ],
      "text/plain": [
       "    Unnamed: 0  key_0  Sample Cell line Genotype Media Compound concentration  \\\n",
       "84          84     85      85      293T       WT  DMEM     4-NB          1 mM   \n",
       "85          85     86      86      293T       WT  DMEM     4-NB          1 mM   \n",
       "86          86     87      87      293T       WT  DMEM     4-NB          1 mM   \n",
       "87          87     88      88      293T       WT  HPLM     4-NB          1 mM   \n",
       "88          88     89      89      293T       WT  HPLM     4-NB          1 mM   \n",
       "\n",
       "   Treatment duration Control group  ...  xCX6B1_HUMAN xTCTP_HUMAN  \\\n",
       "84              7 day           24h  ...      0.060563   -0.594394   \n",
       "85              7 day           24h  ...      0.987311   -0.615167   \n",
       "86              7 day           24h  ...      0.142307   -0.867102   \n",
       "87              7 day           24h  ...      0.606894   -0.820729   \n",
       "88              7 day           24h  ...     -0.077636   -0.619734   \n",
       "\n",
       "    xMARE1_HUMAN  xRL30_HUMAN  xVDAC1_HUMAN  xFPPS_HUMAN  xTRAP1_HUMAN  \\\n",
       "84     -0.079220     0.015354     -0.208599     0.357648     -0.244762   \n",
       "85     -1.319713     0.029817     -0.200257     0.702699      1.057101   \n",
       "86     -0.147405    -2.349797     -0.518479     0.161465     -0.129915   \n",
       "87           NaN    -0.045384      0.073957     0.674998      0.783918   \n",
       "88           NaN     0.170500     -0.015437     0.470689      0.224004   \n",
       "\n",
       "    xSYMC_HUMAN  xTXNL1_HUMAN  xRBM8A_HUMAN  \n",
       "84     1.140630      1.692158      2.174907  \n",
       "85     1.262653      1.380081      1.602328  \n",
       "86     0.785918      1.034025      0.821583  \n",
       "87     1.463818      0.389657      0.773647  \n",
       "88     1.243243      0.227852      0.699431  \n",
       "\n",
       "[5 rows x 443 columns]"
      ]
     },
     "execution_count": 5,
     "metadata": {},
     "output_type": "execute_result"
    }
   ],
   "source": [
    "df6h = dfmerge[dfmerge['Control group']=='6 hr']\n",
    "df24h = dfmerge[dfmerge['Control group']=='24h']\n",
    "df24h.head()"
   ]
  },
  {
   "cell_type": "code",
   "execution_count": 8,
   "metadata": {},
   "outputs": [],
   "source": [
    "### flip so the controls are first\n",
    "df24h = df24h.iloc[np.arange(-12, len(df24h)-12)]"
   ]
  },
  {
   "cell_type": "code",
   "execution_count": 59,
   "metadata": {},
   "outputs": [],
   "source": [
    "df24h_hplm = df24h[df24h['Media']=='HPLM']\n",
    "#df24h_hplm"
   ]
  },
  {
   "cell_type": "code",
   "execution_count": 50,
   "metadata": {},
   "outputs": [],
   "source": [
    "df24h_dmem = df24h[df24h['Media']=='DMEM']\n",
    "#df24h_dmem "
   ]
  },
  {
   "cell_type": "code",
   "execution_count": 51,
   "metadata": {},
   "outputs": [
    {
     "name": "stdout",
     "output_type": "stream",
     "text": [
      "DMEM control versus DMEM PPTC7 KO\n"
     ]
    },
    {
     "data": {
      "text/plain": [
       "0.003462881007244627"
      ]
     },
     "execution_count": 51,
     "metadata": {},
     "output_type": "execute_result"
    }
   ],
   "source": [
    "## DMEM control\n",
    "print('DMEM control versus DMEM PPTC7 KO')\n",
    "ttest_ind(df24h_dmem['xCISY_HUMAN'][0:3], df24h_dmem['xCISY_HUMAN'][3:6], equal_var=False)[1]"
   ]
  },
  {
   "cell_type": "code",
   "execution_count": 52,
   "metadata": {},
   "outputs": [
    {
     "name": "stdout",
     "output_type": "stream",
     "text": [
      "DMEM 4-NB, WT versus PPTC7 KO\n"
     ]
    },
    {
     "data": {
      "text/plain": [
       "0.01418556966669836"
      ]
     },
     "execution_count": 52,
     "metadata": {},
     "output_type": "execute_result"
    }
   ],
   "source": [
    "## DMEM control\n",
    "print('DMEM 4-NB, WT versus PPTC7 KO')\n",
    "ttest_ind(df24h_dmem['xCISY_HUMAN'][6:9], df24h_dmem['xCISY_HUMAN'][9:12], equal_var=False)[1]\n"
   ]
  },
  {
   "cell_type": "code",
   "execution_count": 53,
   "metadata": {},
   "outputs": [
    {
     "name": "stdout",
     "output_type": "stream",
     "text": [
      "DMEM DFO WT versus PPTC7 KO\n"
     ]
    },
    {
     "data": {
      "text/plain": [
       "0.04811600937821357"
      ]
     },
     "execution_count": 53,
     "metadata": {},
     "output_type": "execute_result"
    }
   ],
   "source": [
    "## DMEM control\n",
    "print('DMEM DFO WT versus PPTC7 KO')\n",
    "ttest_ind(df24h_dmem['xCISY_HUMAN'][12:15], df24h_dmem['xCISY_HUMAN'][15:18], equal_var=False)[1]"
   ]
  },
  {
   "cell_type": "code",
   "execution_count": 54,
   "metadata": {},
   "outputs": [
    {
     "name": "stdout",
     "output_type": "stream",
     "text": [
      "DMEM doxy WT versus PPTC7 KO\n"
     ]
    },
    {
     "data": {
      "text/plain": [
       "0.15318086630011626"
      ]
     },
     "execution_count": 54,
     "metadata": {},
     "output_type": "execute_result"
    }
   ],
   "source": [
    "## DMEM control\n",
    "print('DMEM doxy WT versus PPTC7 KO')\n",
    "ttest_ind(df24h_dmem['xCISY_HUMAN'][18:21], df24h_dmem['xCISY_HUMAN'][21:24], equal_var=False)[1]"
   ]
  },
  {
   "cell_type": "code",
   "execution_count": 55,
   "metadata": {},
   "outputs": [
    {
     "name": "stdout",
     "output_type": "stream",
     "text": [
      "HPLM control WT versus PPTC7 KO\n"
     ]
    },
    {
     "data": {
      "text/plain": [
       "0.18550475457248347"
      ]
     },
     "execution_count": 55,
     "metadata": {},
     "output_type": "execute_result"
    }
   ],
   "source": [
    "## DMEM control\n",
    "print('HPLM control WT versus PPTC7 KO')\n",
    "ttest_ind(df24h_hplm['xCISY_HUMAN'][0:3], df24h_hplm['xCISY_HUMAN'][3:6], equal_var=False)[1]"
   ]
  },
  {
   "cell_type": "code",
   "execution_count": 56,
   "metadata": {},
   "outputs": [
    {
     "name": "stdout",
     "output_type": "stream",
     "text": [
      "HPLM 4-NB, WT versus PPTC7 KO\n"
     ]
    },
    {
     "data": {
      "text/plain": [
       "0.06419319571889447"
      ]
     },
     "execution_count": 56,
     "metadata": {},
     "output_type": "execute_result"
    }
   ],
   "source": [
    "## DMEM control\n",
    "print('HPLM 4-NB, WT versus PPTC7 KO')\n",
    "ttest_ind(df24h_hplm['xCISY_HUMAN'][6:9], df24h_hplm['xCISY_HUMAN'][9:12], equal_var=False)[1]"
   ]
  },
  {
   "cell_type": "code",
   "execution_count": 57,
   "metadata": {},
   "outputs": [
    {
     "name": "stdout",
     "output_type": "stream",
     "text": [
      "HPLM DFO WT versus PPTC7 KO\n"
     ]
    },
    {
     "data": {
      "text/plain": [
       "0.034328396804177146"
      ]
     },
     "execution_count": 57,
     "metadata": {},
     "output_type": "execute_result"
    }
   ],
   "source": [
    "print('HPLM DFO WT versus PPTC7 KO')\n",
    "ttest_ind(df24h_hplm['xCISY_HUMAN'][12:15], df24h_hplm['xCISY_HUMAN'][15:18], equal_var=False)[1]"
   ]
  },
  {
   "cell_type": "code",
   "execution_count": 58,
   "metadata": {},
   "outputs": [
    {
     "name": "stdout",
     "output_type": "stream",
     "text": [
      "HPLM DOXY WT versus PPTC7 KO\n"
     ]
    },
    {
     "data": {
      "text/plain": [
       "0.012797171834253695"
      ]
     },
     "execution_count": 58,
     "metadata": {},
     "output_type": "execute_result"
    }
   ],
   "source": [
    "print('HPLM DOXY WT versus PPTC7 KO')\n",
    "ttest_ind(df24h_hplm['xCISY_HUMAN'][18:21], df24h_hplm['xCISY_HUMAN'][21:24], equal_var=False)[1]"
   ]
  },
  {
   "cell_type": "code",
   "execution_count": 49,
   "metadata": {},
   "outputs": [],
   "source": [
    "# save data table for source data\n",
    "#df24h[df24h.columns.tolist()[0:10] + ['xCISY_HUMAN']].to_csv('P:/JGM_DI2A/Python/outputs/CISY_raw_data_table.csv')"
   ]
  },
  {
   "cell_type": "code",
   "execution_count": 111,
   "metadata": {},
   "outputs": [
    {
     "data": {
      "image/png": "[encoded data removed]",
      "text/plain": [
       "<Figure size 216x216 with 1 Axes>"
      ]
     },
     "metadata": {},
     "output_type": "display_data"
    }
   ],
   "source": [
    "plt.rcParams['figure.figsize'] = 3,3\n",
    "sns.set_style(\"ticks\")\n",
    "sns.set_context(font_scale= 12, rc={\"ytick.major.width\":6})\n",
    "\n",
    "g = sns.swarmplot(x='Compound', y='xCISY_HUMAN', hue='Genotype', \n",
    "        data=df24h_dmem, dodge=True, size=8, linewidth=1)\n",
    "g.set(ylim=(-1,0.5))\n",
    "g.legend(labels=())\n",
    "plt.savefig('P:/JGM_DI2A/Python/outputs/mitotox3/Fig4D_CISY_HUMAN_DMEM_pts.svg')"
   ]
  },
  {
   "cell_type": "code",
   "execution_count": 112,
   "metadata": {},
   "outputs": [
    {
     "data": {
      "image/png": "[encoded data removed]",
      "text/plain": [
       "<Figure size 216x216 with 1 Axes>"
      ]
     },
     "metadata": {},
     "output_type": "display_data"
    }
   ],
   "source": [
    "plt.rcParams['figure.figsize'] = 3,3\n",
    "g = sns.swarmplot(x='Compound', y='xCISY_HUMAN', hue='Genotype', \n",
    "        data=df24h_hplm, dodge=True, size=8,  linewidth=1)\n",
    "g.set(ylim=(-1,0.5))\n",
    "#g.legend(labels=())\n",
    "plt.savefig('P:/JGM_DI2A/Python/outputs/mitotox3/Fig4D_CISY_HUMAN_HPLM_pts.svg')"
   ]
  }
 ],
 "metadata": {
  "kernelspec": {
   "display_name": "pyms",
   "language": "python",
   "name": "pyms"
  },
  "language_info": {
   "codemirror_mode": {
    "name": "ipython",
    "version": 3
   },
   "file_extension": ".py",
   "mimetype": "text/x-python",
   "name": "python",
   "nbconvert_exporter": "python",
   "pygments_lexer": "ipython3",
   "version": "3.6.8"
  }
 },
 "nbformat": 4,
 "nbformat_minor": 2
}
