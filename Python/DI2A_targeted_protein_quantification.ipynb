{
 "cells": [
  {
   "cell_type": "markdown",
   "metadata": {},
   "source": [
    "# Targeted protein quantification from list of targets generated in R\n",
    "needed to use R for peptide-to-protein mapping, jump back here to do quant because it is much faster"
   ]
  },
  {
   "cell_type": "code",
   "execution_count": 506,
   "metadata": {},
   "outputs": [],
   "source": [
    "from pyteomics import mgf\n",
    "from pyteomics import mzxml\n",
    "from pyteomics import mass\n",
    "\n",
    "import pandas as pd\n",
    "import numpy as np\n",
    "import re\n",
    "import pickle\n",
    "import timeit\n",
    "import time\n",
    "\n",
    "import matplotlib.pyplot as plt\n",
    "from pylab import rcParams"
   ]
  },
  {
   "cell_type": "markdown",
   "metadata": {},
   "source": [
    "### Functions to match intensities, m/z, and to get quant frags from the target table"
   ]
  },
  {
   "cell_type": "code",
   "execution_count": 508,
   "metadata": {},
   "outputs": [],
   "source": [
    "# to extract the int values between two other values\n",
    "def getFragInt(pred_mass, mz_list, int_list, tol, tol_type):\n",
    "    ''' \n",
    "    PURPOSE:\n",
    "    Find observed intensity for theoretical m/z value in spectra\n",
    "    \n",
    "    INPUTS:\n",
    "    pred_mass = the theoretical mass of the fragment ion\n",
    "    mz_array = numpy array of all peak masses in the spectra\n",
    "    int_array = numpy array of all peak intensities in the spectra\n",
    "    ppm = the mass tolerance for the fragments in ppm\n",
    "    noiselevel = value to be subtracted from each value\n",
    "    \n",
    "    OUTPUTS:\n",
    "    numpy array containing the intensity for any m/z found\n",
    "    \n",
    "    '''\n",
    "    if tol_type==\"ppm\":\n",
    "        lowmz = pred_mass - pred_mass*tol\n",
    "        highmz = pred_mass + pred_mass*tol\n",
    "    if tol_type == \"abs\":\n",
    "        lowmz = pred_mass - tol\n",
    "        highmz = pred_mass + tol\n",
    "    found = [int_list[index] for index, value in enumerate(mz_list) if value>lowmz and value<highmz]\n",
    "    #found = found-noiselevel\n",
    "    if len(found)==0:\n",
    "        found = [1]\n",
    "    return(found[0])"
   ]
  },
  {
   "cell_type": "code",
   "execution_count": 509,
   "metadata": {},
   "outputs": [],
   "source": [
    "# function to get the quant frag table from the line in the target table\n",
    "def getQuantFragsFromTargetList(target_table, line):\n",
    "    tmpline = target_table.iloc[line]\n",
    "    if(len(tmpline['ylight'])>1):\n",
    "        output= pd.DataFrame( {'lightmz':[float(x) for x in tmpline['ylight']], \n",
    "                   'heavymz':[float(x) for x in tmpline['yheavy']]})\n",
    "    if(len(tmpline['ylight'])<2):\n",
    "        print(str(tmpline['Peptide'])+'not enough fragments')\n",
    "        output = 'not enough fragments'\n",
    "    return(output)"
   ]
  },
  {
   "cell_type": "markdown",
   "metadata": {},
   "source": [
    "# For most intense peptide set - need to match peptide targets to scans"
   ]
  },
  {
   "cell_type": "markdown",
   "metadata": {},
   "source": [
    "### Import the quant target table from R"
   ]
  },
  {
   "cell_type": "code",
   "execution_count": 510,
   "metadata": {},
   "outputs": [],
   "source": [
    "qtargs2 = pd.read_csv(\"P:/JGM_DI2A/R/outputs/mostintense_quantmzlist.txt\", sep=\"\\t\",\n",
    "                          converters={\"ylight\": lambda x: x.strip(\"[]\").split(\", \"),\n",
    "                                     \"yheavy\": lambda x: x.strip(\"[]\").split(\", \"), \n",
    "                                     \"yordinals\": lambda x: x.strip(\"[]\").split(\", \")})"
   ]
  },
  {
   "cell_type": "code",
   "execution_count": 511,
   "metadata": {},
   "outputs": [],
   "source": [
    "target_scan_ids = [(qtargs2['prec_light_mz'][x], qtargs2['prec_heavy_mz'][x], qtargs2['CV'][x]) for x in range(len(qtargs2))]"
   ]
  },
  {
   "cell_type": "code",
   "execution_count": 512,
   "metadata": {},
   "outputs": [
    {
     "data": {
      "text/plain": [
       "552"
      ]
     },
     "execution_count": 512,
     "metadata": {},
     "output_type": "execute_result"
    }
   ],
   "source": [
    "len(target_scan_ids)"
   ]
  },
  {
   "cell_type": "code",
   "execution_count": 513,
   "metadata": {},
   "outputs": [],
   "source": [
    "### makes a dict of scan:CV value pairs for lookup of the CV\n",
    "tmp_prec_dict = {}\n",
    "with mzxml.read(\"P:/JGM_DI2A/MSDATA/20190501_DI2A_IT_MS1/20190503_DI2A_tMS2_OTmostint_A549_1to1_01.mzXML\") as spectra:\n",
    "    for x in spectra:\n",
    "        tmp_prec_dict[round(x['precursorMz'][0]['precursorMz'], 2), \n",
    "                                   round(x['precursorMz'][1]['precursorMz'], 2), \n",
    "                                  x['compensationVoltage']] = x['num']"
   ]
  },
  {
   "cell_type": "code",
   "execution_count": 514,
   "metadata": {},
   "outputs": [],
   "source": [
    "## fix the numbering of which scan each peptide should be quantified from because the table has decoys left in it\n",
    "quant_scan = []\n",
    "for x in target_scan_ids:\n",
    "    quant_scan.append(tmp_prec_dict[(x)])\n",
    "qtargs2['quantscan'] = quant_scan"
   ]
  },
  {
   "cell_type": "code",
   "execution_count": 515,
   "metadata": {},
   "outputs": [],
   "source": [
    "fileslist = [\n",
    "    \"P:/JGM_DI2A/MSDATA/20190501_DI2A_IT_MS1/20190503_DI2A_tMS2_OTmostint_A549_1to8_01.mzXML\",\n",
    "    \"P:/JGM_DI2A/MSDATA/20190501_DI2A_IT_MS1/20190503_DI2A_tMS2_OTmostint_A549_1to4_01.mzXML\",\n",
    "    \"P:/JGM_DI2A/MSDATA/20190501_DI2A_IT_MS1/20190503_DI2A_tMS2_OTmostint_A549_1to2_01.mzXML\",\n",
    "    \"P:/JGM_DI2A/MSDATA/20190501_DI2A_IT_MS1/20190503_DI2A_tMS2_OTmostint_A549_1to1_01.mzXML\",\n",
    "    \"P:/JGM_DI2A/MSDATA/20190501_DI2A_IT_MS1/20190503_DI2A_tMS2_OTmostint_A549_2to1_01.mzXML\",\n",
    "    \"P:/JGM_DI2A/MSDATA/20190501_DI2A_IT_MS1/20190503_DI2A_tMS2_OTmostint_A549_4to1_01.mzXML\",\n",
    "    \"P:/JGM_DI2A/MSDATA/20190501_DI2A_IT_MS1/20190503_DI2A_tMS2_OTmostint_A549_8to1_01.mzXML\"\n",
    "]"
   ]
  },
  {
   "cell_type": "markdown",
   "metadata": {},
   "source": [
    "## Use fragments from qtargs2"
   ]
  },
  {
   "cell_type": "code",
   "execution_count": 516,
   "metadata": {
    "scrolled": true
   },
   "outputs": [
    {
     "name": "stdout",
     "output_type": "stream",
     "text": [
      "GLGLSPDLIVC+57.0215Rnot enough fragments\n",
      "DIALVQQLFEALC+57.0215Knot enough fragments\n",
      "LTAQEAC+57.0215GKnot enough fragments\n",
      "EASIC+57.0215ALRnot enough fragments\n",
      "file= P:/JGM_DI2A/MSDATA/20190501_DI2A_IT_MS1/20190503_DI2A_tMS2_OTmostint_A549_1to8_01.mzXML, quantified 312.5355438516539 spectra per second\n",
      "GLGLSPDLIVC+57.0215Rnot enough fragments\n",
      "DIALVQQLFEALC+57.0215Knot enough fragments\n",
      "LTAQEAC+57.0215GKnot enough fragments\n",
      "EASIC+57.0215ALRnot enough fragments\n",
      "file= P:/JGM_DI2A/MSDATA/20190501_DI2A_IT_MS1/20190503_DI2A_tMS2_OTmostint_A549_1to4_01.mzXML, quantified 320.6838756770495 spectra per second\n",
      "GLGLSPDLIVC+57.0215Rnot enough fragments\n",
      "DIALVQQLFEALC+57.0215Knot enough fragments\n",
      "LTAQEAC+57.0215GKnot enough fragments\n",
      "EASIC+57.0215ALRnot enough fragments\n",
      "file= P:/JGM_DI2A/MSDATA/20190501_DI2A_IT_MS1/20190503_DI2A_tMS2_OTmostint_A549_1to2_01.mzXML, quantified 330.24531848748666 spectra per second\n",
      "GLGLSPDLIVC+57.0215Rnot enough fragments\n",
      "DIALVQQLFEALC+57.0215Knot enough fragments\n",
      "LTAQEAC+57.0215GKnot enough fragments\n",
      "EASIC+57.0215ALRnot enough fragments\n",
      "file= P:/JGM_DI2A/MSDATA/20190501_DI2A_IT_MS1/20190503_DI2A_tMS2_OTmostint_A549_1to1_01.mzXML, quantified 350.98927228482563 spectra per second\n",
      "GLGLSPDLIVC+57.0215Rnot enough fragments\n",
      "DIALVQQLFEALC+57.0215Knot enough fragments\n",
      "LTAQEAC+57.0215GKnot enough fragments\n",
      "EASIC+57.0215ALRnot enough fragments\n",
      "file= P:/JGM_DI2A/MSDATA/20190501_DI2A_IT_MS1/20190503_DI2A_tMS2_OTmostint_A549_2to1_01.mzXML, quantified 346.8109512445168 spectra per second\n",
      "GLGLSPDLIVC+57.0215Rnot enough fragments\n",
      "DIALVQQLFEALC+57.0215Knot enough fragments\n",
      "LTAQEAC+57.0215GKnot enough fragments\n",
      "EASIC+57.0215ALRnot enough fragments\n",
      "file= P:/JGM_DI2A/MSDATA/20190501_DI2A_IT_MS1/20190503_DI2A_tMS2_OTmostint_A549_4to1_01.mzXML, quantified 338.11823279650275 spectra per second\n",
      "GLGLSPDLIVC+57.0215Rnot enough fragments\n",
      "DIALVQQLFEALC+57.0215Knot enough fragments\n",
      "LTAQEAC+57.0215GKnot enough fragments\n",
      "EASIC+57.0215ALRnot enough fragments\n",
      "file= P:/JGM_DI2A/MSDATA/20190501_DI2A_IT_MS1/20190503_DI2A_tMS2_OTmostint_A549_8to1_01.mzXML, quantified 358.7170238360105 spectra per second\n",
      "14.089991331100464\n"
     ]
    }
   ],
   "source": [
    "resultsdict = {}\n",
    "stt = time.time()\n",
    "TOL_TYPE = \"ppm\"\n",
    "TOL = 10e-6\n",
    "\n",
    "for k in fileslist:\n",
    "    meanratio_list = []\n",
    "    medianratio_list= []\n",
    "    matchdf_list = []\n",
    "    quantscans = qtargs2['quantscan']\n",
    "    with mzxml.read(k, use_index =True) as tmpquantfile:\n",
    "        #quantscans = sortedpepdf['quantscans'].tolist()\n",
    "        peplist = qtargs2['Peptide'].tolist()\n",
    "        #specnamelist = sortedpepdf['Name'].tolist()\n",
    "        looplen = len(qtargs2)\n",
    "        st = time.time()\n",
    "        for i in range(0, looplen):\n",
    "            #print(i)\n",
    "            #sts = time.time()\n",
    "            tmp_qf = getQuantFragsFromTargetList(qtargs2, i)\n",
    "            if(type(tmp_qf)!=str):\n",
    "                tmpmzarray = tmpquantfile.get_by_id(quantscans[i])['m/z array'].tolist()\n",
    "                tmpintarray = tmpquantfile.get_by_id(quantscans[i])['intensity array'].tolist()\n",
    "                lightints = [getFragInt(x, tmpmzarray, tmpintarray, TOL, TOL_TYPE) for x in tmp_qf['lightmz']]\n",
    "                heavyints = [getFragInt(x, tmpmzarray, tmpintarray, TOL, TOL_TYPE) for x in tmp_qf['heavymz']]\n",
    "                ratios = [x/y for x,y in zip(heavyints, lightints)]\n",
    "                tmp_qf['lightint'] = lightints\n",
    "                tmp_qf['heavyint'] = heavyints\n",
    "                tmp_qf['HLratios'] = ratios\n",
    "                matchdf_list.append(tmp_qf)\n",
    "                \n",
    "                intsum = [sum(x) for x in zip(heavyints, lightints)]\n",
    "                rm = [index for index, value in enumerate(intsum) if value==2] # get index of values that are both 1 \n",
    "                for x in sorted(rm, reverse=True):\n",
    "                    del lightints[x]\n",
    "                    del heavyints[x]\n",
    "                rm0ratios = [x/y for x,y in zip(heavyints, lightints)]\n",
    "                # if there is at least one fragment matched, compute ratio and append to lists\n",
    "                if len(rm0ratios)>0:\n",
    "                    meanratio_list.append(np.mean(rm0ratios))\n",
    "                    medianratio_list.append(np.median(rm0ratios))\n",
    "                #print('time for 1 spec= '+str(time.time()-sts))\n",
    "        print('file= '+k+', quantified '+str(looplen/(time.time()-st))+' spectra per second')\n",
    "    resultsdict[k] = [matchdf_list, medianratio_list, meanratio_list]\n",
    "print(time.time()-stt)"
   ]
  },
  {
   "cell_type": "code",
   "execution_count": 517,
   "metadata": {},
   "outputs": [
    {
     "name": "stdout",
     "output_type": "stream",
     "text": [
      "number of peptides (proteins) quantified\n",
      "525\n",
      "511\n",
      "501\n",
      "490\n",
      "497\n",
      "500\n",
      "486\n"
     ]
    }
   ],
   "source": [
    "allmedians = []\n",
    "allmeans = []\n",
    "for x in fileslist:\n",
    "    tmpmedians = resultsdict[x][1]\n",
    "    tmpmeans = resultsdict[x][2]\n",
    "    allmedians.append([np.log2(x) for x in tmpmedians if type(x) != list ])\n",
    "    allmeans.append([np.log2(x) for x in tmpmeans if type(x) != list ])\n",
    "print('number of peptides (proteins) quantified')\n",
    "for x in allmedians:\n",
    "    print(len(x))"
   ]
  },
  {
   "cell_type": "code",
   "execution_count": 518,
   "metadata": {},
   "outputs": [],
   "source": [
    "allmedianslonglist = []\n",
    "allmeanslonglist = []\n",
    "for x in fileslist:\n",
    "    tmpmedians = resultsdict[x][1]\n",
    "    tmpmeans = resultsdict[x][2]\n",
    "    #tmpval[np.log2(y) for y in tmpmedians if type(y) != list ] \n",
    "    allmedianslonglist = allmedianslonglist + [np.log2(y) for y in tmpmedians if type(y) != list ]\n",
    "    allmeanslonglist = allmeanslonglist + [np.log2(y) for y in tmpmeans if type(y) != list ]\n",
    "i=1\n",
    "xvals = []\n",
    "for x in allmedians:\n",
    "    xvals = xvals +[i]*len(x)\n",
    "    i+=1"
   ]
  },
  {
   "cell_type": "markdown",
   "metadata": {},
   "source": [
    "# Make figure 3 panel C"
   ]
  },
  {
   "cell_type": "code",
   "execution_count": 520,
   "metadata": {},
   "outputs": [
    {
     "data": {
      "text/plain": [
       "(-13, 13)"
      ]
     },
     "execution_count": 520,
     "metadata": {},
     "output_type": "execute_result"
    },
    {
     "data": {
      "image/png": "[encoded data removed]",
      "text/plain": [
       "<Figure size 360x504 with 2 Axes>"
      ]
     },
     "metadata": {
      "needs_background": "light"
     },
     "output_type": "display_data"
    }
   ],
   "source": [
    "rcParams['figure.figsize'] = 5, 7\n",
    "fig, ax = plt.subplots()\n",
    "\n",
    "h = ax.hist2d(np.array(xvals), np.asarray(allmedianslonglist), bins=[7,31], )\n",
    "#plt.ylim(-6,6)\n",
    "plt.colorbar(h[3], ax=ax)\n",
    "plt.plot([1,7], [np.log2(8/1), np.log2(8/1)], color='w', linestyle='--', linewidth=2)\n",
    "plt.plot([1,7], [np.log2(4/1), np.log2(4/1)], color='w', linestyle='--', linewidth=2)\n",
    "plt.plot([1,7], [np.log2(2/1), np.log2(2/1)], color='w', linestyle='--', linewidth=2)\n",
    "plt.plot([1,7], [np.log2(1/1), np.log2(1/1)], color='w', linestyle='--', linewidth=2)\n",
    "plt.plot([1,7], [np.log2(1/2), np.log2(1/2)], color='w', linestyle='--', linewidth=2)\n",
    "plt.plot([1,7], [np.log2(1/4), np.log2(1/4)], color='w', linestyle='--', linewidth=2)\n",
    "plt.plot([1,7], [np.log2(1/8), np.log2(1/8)], color='w', linestyle='--', linewidth=2)\n",
    "plt.ylim(-13,13)\n",
    "#plt.savefig('P:/JGM_DI2A/Python/outputs/heatmap10ppm_top3_1_ion.svg', type='svg')\n",
    "#plt.xlabel(['8:1', '4:1', '2:1'])\n",
    "#plt.title('20ppm, at least one ion from top3')"
   ]
  }
 ],
 "metadata": {
  "kernelspec": {
   "display_name": "pyms",
   "language": "python",
   "name": "pyms"
  },
  "language_info": {
   "codemirror_mode": {
    "name": "ipython",
    "version": 3
   },
   "file_extension": ".py",
   "mimetype": "text/x-python",
   "name": "python",
   "nbconvert_exporter": "python",
   "pygments_lexer": "ipython3",
   "version": "3.6.8"
  }
 },
 "nbformat": 4,
 "nbformat_minor": 2
}
