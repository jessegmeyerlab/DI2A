{
 "cells": [
  {
   "cell_type": "markdown",
   "metadata": {},
   "source": [
    "# Script to fix mgf spectral library created from MSconvert of ms2 spectral lib"
   ]
  },
  {
   "cell_type": "code",
   "execution_count": 2,
   "metadata": {},
   "outputs": [],
   "source": [
    "### read the mgf spectral library that needs to be fixed\n",
    "f = open(\"P:/JGM_DI2A/human_lib_creation/human.faims (copy).mgf\", \"r\")\n",
    "contents=f.readlines()"
   ]
  },
  {
   "cell_type": "code",
   "execution_count": 5,
   "metadata": {},
   "outputs": [],
   "source": [
    "## read the ms2 spectral library \n",
    "ms2 = open(\"P:/JGM_DI2A/human_lib_creation/human.faims.ms2\")\n",
    "ms2cont=ms2.readlines()"
   ]
  },
  {
   "cell_type": "code",
   "execution_count": 45,
   "metadata": {},
   "outputs": [],
   "source": [
    "### loop through the lines with SEQ= in the ms2 spec lib, and fix the format of them\n",
    "seqlines = list(filter(lambda x:'D\\tmodified' in x, ms2cont))\n",
    "i=0\n",
    "while i < len(seqlines):\n",
    "    #print(i)\n",
    "    seqlines[i] = seqlines[i].replace('D\\tmodified seq\\t','SEQ=')\n",
    "    seqlines[i] = seqlines[i].replace('[','')\n",
    "    seqlines[i] = seqlines[i].replace(']','')\n",
    "    i+=1"
   ]
  },
  {
   "cell_type": "code",
   "execution_count": 43,
   "metadata": {},
   "outputs": [],
   "source": [
    "### loop through MGF file lines and record locations of where to put SEQ= lines\n",
    "special_line_indexes = []\n",
    "for i, line in enumerate(contents): \n",
    "    if 'PEPMASS' in line:\n",
    "        #extract line index for lines that contain //\n",
    "        special_line_indexes.append(i + 1)\n",
    "new_line_indexes = list(special_line_indexes)"
   ]
  },
  {
   "cell_type": "markdown",
   "metadata": {},
   "source": [
    "### Loop through the lines in the file and add the \"sequence\" line\n",
    "Takes a long time (1-3 hours) to finish for the large human spectral library\n",
    "\n",
    "##### Make a copy of your broken mgf spectral library and input the name of that copy as 'file' below\n",
    "Making a copy ensures you can compare the two files before and after fixing, and ensures that you don't break the original\n",
    "if something goes wrong"
   ]
  },
  {
   "cell_type": "code",
   "execution_count": 38,
   "metadata": {},
   "outputs": [],
   "source": [
    "## make a \n",
    "match_string = 'PEPMASS'\n",
    "insert_strings = seqlines\n",
    "file = \"P:/JGM_DI2A/human_lib_creation/human.faims.mgf\"\n",
    "i=0\n",
    "with open(file, 'r+') as fd:\n",
    "    contents = fd.readlines()\n",
    "    for index, line in enumerate(contents):\n",
    "        #print(i)\n",
    "        if match_string in line and insert_strings[i] not in contents[index + 1]:\n",
    "            contents.insert(index + 1, insert_strings[i])\n",
    "            # print(line)\n",
    "            # print(insert_strings[i])\n",
    "            i +=1 \n",
    "    fd.seek(0)\n",
    "    fd.writelines(contents)"
   ]
  },
  {
   "cell_type": "markdown",
   "metadata": {},
   "source": [
    "### You now have the lines specifying peptide sequence in your MGF library, which is ready for preprocessing by MSPLIT-DIA"
   ]
  },
  {
   "cell_type": "code",
   "execution_count": null,
   "metadata": {},
   "outputs": [],
   "source": []
  }
 ],
 "metadata": {
  "kernelspec": {
   "display_name": "Python 3",
   "language": "python",
   "name": "python3"
  },
  "language_info": {
   "codemirror_mode": {
    "name": "ipython",
    "version": 3
   },
   "file_extension": ".py",
   "mimetype": "text/x-python",
   "name": "python",
   "nbconvert_exporter": "python",
   "pygments_lexer": "ipython3",
   "version": "3.6.8"
  }
 },
 "nbformat": 4,
 "nbformat_minor": 2
}
